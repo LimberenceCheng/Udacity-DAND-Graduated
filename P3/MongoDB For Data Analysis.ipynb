{
 "cells": [
  {
   "cell_type": "markdown",
   "metadata": {},
   "source": [
    "# Index\n",
    "\n",
    "* Introduction\n",
    "    * MongoDB or SQL?\n",
    "    * Map Area\n",
    "    * Why This Area?\n",
    "* Study on OpenStreetMap Wiki\n",
    "    * Elements\n",
    "        * Node\n",
    "        * Ways\n",
    "        * Relation\n",
    "        * Tag\n",
    "* Questions\n",
    "* Data Cleaning\n",
    "    * Using algorithm to get example.\n",
    "    * Auditing the data\n",
    "        * Insert the data into local MongoDB Database\n",
    "    * Make .osm to .json\n",
    "* Data Overview\n",
    "* Conclusion\n",
    "* Reference"
   ]
  },
  {
   "cell_type": "markdown",
   "metadata": {},
   "source": [
    "# Introduction\n",
    "\n",
    "## MongoDB or SQL?\n",
    "\n",
    "After reading [Should-I-learn-SQL-or-NoSQL-MySQL-or-MongoDB-And-why](https://www.quora.com/Should-I-learn-SQL-or-NoSQL-MySQL-or-MongoDB-And-why) at Quora and well estimate my own situation, I choose **MongoDB to wrangle OpenStreetMap Data.**\n",
    "\n",
    "**Why MongoDB?**\n",
    "\n",
    "I previously have learned the SQL at my junior high school. Since Udacity suggested that the MongoDB is worth learning.\n",
    "\n",
    "So I choose MongoDB to compete my project.\n",
    "\n",
    "## Map Area\n",
    "\n",
    "[Miami,Florida,United State of America](https://mapzen.com/data/metro-extracts/metro/miami_florida/)\n",
    "\n",
    "**Why this area?**\n",
    "\n",
    "Miami is a great place, I want to visit there."
   ]
  },
  {
   "cell_type": "markdown",
   "metadata": {},
   "source": [
    "# Question "
   ]
  },
  {
   "cell_type": "markdown",
   "metadata": {},
   "source": [
    "# Data Cleaning\n",
    "## Using this algorithm to get sample\n",
    "\n",
    "### set **k=10**"
   ]
  },
  {
   "cell_type": "code",
   "execution_count": 2,
   "metadata": {
    "collapsed": false
   },
   "outputs": [
    {
     "data": {
      "text/plain": [
       "<generator object get_element at 0x0000000004530948>"
      ]
     },
     "execution_count": 2,
     "metadata": {},
     "output_type": "execute_result"
    }
   ],
   "source": [
    "import xml.etree.ElementTree as ET\n",
    "\n",
    "OSM_FILE = \"miami_florida.osm\"\n",
    "SAMPLE_FILE = \"miami_example.osm\"\n",
    "\n",
    "k = 10\n",
    "\n",
    "def get_element(osm_file, tags=('node', 'way', 'relation')):\n",
    "    \"\"\"Yield element if it is the right type of tag\n",
    "\n",
    "    Reference:\n",
    "    http://stackoverflow.com/questions/3095434/inserting-newlines-in-xml-file-generated-via-xml-etree-elementtree-in-python\n",
    "    \"\"\"\n",
    "    context = iter(ET.iterparse(osm_file, events=('start', 'end')))\n",
    "    _, root = next(context)\n",
    "    for event, elem in context:\n",
    "        if event == 'end' and elem.tag in tags:\n",
    "            yield elem\n",
    "            root.clear()\n",
    "\n",
    "\n",
    "with open(SAMPLE_FILE, 'wb') as output:\n",
    "    output.write('<?xml version=\"1.0\" encoding=\"UTF-8\"?>\\n')\n",
    "    output.write('<osm>\\n  ')\n",
    "\n",
    "    # Write every kth top level element\n",
    "    for i, element in enumerate(get_element(OSM_FILE)):\n",
    "        if i % k == 0:\n",
    "            output.write(ET.tostring(element, encoding='utf-8'))\n",
    "\n",
    "    output.write('</osm>')\n",
    "\n",
    "get_element(OSM_FILE,tags=('node', 'way', 'relation'))"
   ]
  },
  {
   "cell_type": "markdown",
   "metadata": {},
   "source": [
    "After finish the sample, we began our project"
   ]
  },
  {
   "cell_type": "markdown",
   "metadata": {},
   "source": [
    "## Auditing the data\n",
    "\n",
    "Load libraries"
   ]
  },
  {
   "cell_type": "code",
   "execution_count": 3,
   "metadata": {
    "collapsed": false
   },
   "outputs": [],
   "source": [
    "import os\n",
    "import xml.etree.cElementTree as cET\n",
    "from collections import defaultdict\n",
    "import pprint\n",
    "import re\n",
    "import codecs\n",
    "import json\n",
    "import string\n",
    "from pymongo import MongoClient"
   ]
  },
  {
   "cell_type": "markdown",
   "metadata": {},
   "source": [
    "Set up map file path"
   ]
  },
  {
   "cell_type": "code",
   "execution_count": 4,
   "metadata": {
    "collapsed": true
   },
   "outputs": [],
   "source": [
    "# set up map file path\n",
    "filename = \"miami_example.osm\" # osm filename\n",
    "path = \"E:\\CS\\Data Science\\P3\" # directory contain the osm file\n",
    "\n",
    "miamiOSM = os.path.join(path, filename)"
   ]
  },
  {
   "cell_type": "markdown",
   "metadata": {},
   "source": [
    "According to Python re document, we set lower part, and lower colon.\n",
    "\n",
    "Also, set initial version of expected street names, and using list to store."
   ]
  },
  {
   "cell_type": "code",
   "execution_count": 5,
   "metadata": {
    "collapsed": true
   },
   "outputs": [],
   "source": [
    "# some regular expression\n",
    "lower = re.compile(r'^([a-z]|_)*$')\n",
    "lower_colon = re.compile(r'^([a-z]|_)*:([a-z]|_)*$')\n",
    "problemchars = re.compile(r'[=\\+/&<>;\\'\"\\?%#$@\\,\\. \\t\\r\\n]')\n",
    "street_type_re = re.compile(r'\\b\\S+\\.?$', re.IGNORECASE)\n",
    "\n",
    "# initial version of expected street names\n",
    "expected = [\"Street\", \"Avenue\", \"Boulevard\", \"Drive\", \"Court\", \"Place\",\n",
    "            \"Square\", \"Lane\", \"Road\", \"Trail\", \"Parkway\", \"Commons\",\"River\"]"
   ]
  },
  {
   "cell_type": "markdown",
   "metadata": {},
   "source": [
    "First, audit that whether the street type is our expected, so set up an function to look at the street names and print out all the street names that is with a unexpected streer type.\n",
    "\n",
    "To do this, we need to add unexpected street name to a list."
   ]
  },
  {
   "cell_type": "code",
   "execution_count": 6,
   "metadata": {
    "collapsed": true
   },
   "outputs": [],
   "source": [
    "# Look at the street names, print out all the street names that is with\n",
    "# a unexpected street type\n",
    "def audit_street_type(street_types, street_name):\n",
    "    # add unexpected street name to a list\n",
    "    m = street_type_re.search(street_name)\n",
    "    if m:\n",
    "        street_type = m.group()\n",
    "        if street_type not in expected:\n",
    "            street_types[street_type].add(street_name)"
   ]
  },
  {
   "cell_type": "markdown",
   "metadata": {},
   "source": [
    "In order to auditing the street data,we need to determined whether the element is a street name or not."
   ]
  },
  {
   "cell_type": "code",
   "execution_count": 7,
   "metadata": {
    "collapsed": true
   },
   "outputs": [],
   "source": [
    "def is_street_name(elem):\n",
    "    # determine whether a element is a street name\n",
    "    return (elem.attrib['k'] == \"addr:street\")\n",
    "\n",
    "def audit_street(osmfile):\n",
    "    # iter through all street name tag under node or way and audit\n",
    "    # the street name value\n",
    "    osm_file = open(osmfile, \"r\")\n",
    "    street_types = defaultdict(set)\n",
    "    for event, elem in cET.iterparse(osm_file, events=(\"start\",)):\n",
    "        if elem.tag == \"node\" or elem.tag == \"way\":\n",
    "            for tag in elem.iter(\"tag\"):\n",
    "                if is_street_name(tag):\n",
    "                    audit_street_type(street_types, tag.attrib['v'])\n",
    "    return street_types"
   ]
  },
  {
   "cell_type": "markdown",
   "metadata": {},
   "source": [
    "Now we began our auditing."
   ]
  },
  {
   "cell_type": "code",
   "execution_count": 8,
   "metadata": {
    "collapsed": false
   },
   "outputs": [],
   "source": [
    "st_types = audit_street(miamiOSM)"
   ]
  },
  {
   "cell_type": "markdown",
   "metadata": {},
   "source": [
    "Began our auditing, we should print the data in the map."
   ]
  },
  {
   "cell_type": "code",
   "execution_count": 9,
   "metadata": {
    "collapsed": false
   },
   "outputs": [
    {
     "name": "stdout",
     "output_type": "stream",
     "text": [
      "{'101': set(['Commercial Blvd #101']),\n",
      " '337': set(['NW 53rd Street, Suite 337']),\n",
      " '9': set(['State Road 9']),\n",
      " 'Atlanta': set(['Atlanta']),\n",
      " 'Ave': set(['Bedford Ave',\n",
      "             'Corporate Ave',\n",
      "             'E Gardenia Ave',\n",
      "             'E Seneca Ave',\n",
      "             'E Whitewater Ave',\n",
      "             'Granada Ave',\n",
      "             'Islewood Ave',\n",
      "             'N Gardenia Ave',\n",
      "             'NW 73rd Ave',\n",
      "             'Park Ave',\n",
      "             'Rainbow Ave',\n",
      "             'S Gardenia Ave',\n",
      "             'S Whitewater Ave',\n",
      "             'SE 1st Ave',\n",
      "             'SW 148th Ave',\n",
      "             'SW 167th Ave',\n",
      "             'W Gardenia Ave',\n",
      "             'W Whitewater Ave',\n",
      "             'Westgate Ave']),\n",
      " 'Birkdale': set(['Birkdale']),\n",
      " 'Blvd': set(['Blatt Blvd',\n",
      "              'Bonaventure Blvd',\n",
      "              'Corporate Lakes Blvd',\n",
      "              'Crandon Blvd',\n",
      "              'Falls Blvd',\n",
      "              'Forest Hill Blvd',\n",
      "              'Gables Blvd',\n",
      "              'Indian Trace Blvd',\n",
      "              'Lake Blvd',\n",
      "              'Landings Blvd',\n",
      "              'Meadows Blvd',\n",
      "              'North Biscayne Blvd',\n",
      "              'Okeechobee Blvd',\n",
      "              'Palm Blvd',\n",
      "              'Royal Palm Blvd',\n",
      "              'W Corporate Lakes Blvd',\n",
      "              'W Hillsboro Blvd']),\n",
      " 'Bnd': set(['Alexander Bnd',\n",
      "             'Cordoba Bnd',\n",
      "             'Eagle Bnd',\n",
      "             'Orchid Bnd',\n",
      "             'Osprey Bnd',\n",
      "             'Sapphire Bnd',\n",
      "             'Tradewinds Bnd']),\n",
      " 'Capistrano': set(['Capistrano']),\n",
      " 'Causeway': set(['Kennedy Causeway', 'Macarthur Causeway']),\n",
      " 'Cir': set(['Bayview Cir',\n",
      "             'Beechwood Cir',\n",
      "             'Blue Jay Cir',\n",
      "             'Camellia Cir',\n",
      "             'Chenille Cir',\n",
      "             'Coconut Cir',\n",
      "             'Cottonwood Cir',\n",
      "             'Crestview Cir',\n",
      "             'Crestwood Cir',\n",
      "             'Dockside Cir',\n",
      "             'Dogwood Cir',\n",
      "             'Eagle Run Cir',\n",
      "             'Estancia Cir',\n",
      "             'Falcon Ridge Cir',\n",
      "             'Garnet Cir',\n",
      "             'Ginger Cir',\n",
      "             'Greens Edge Cir',\n",
      "             'Harbor Pointe Cir',\n",
      "             'Harbor View Cir',\n",
      "             'Island Cir',\n",
      "             'Jasmine Cir',\n",
      "             'La Costa Cir',\n",
      "             'Lakeshore Cir',\n",
      "             'Lakewood Cir',\n",
      "             'Laurel Ridge Cir',\n",
      "             'Lavender Cir',\n",
      "             'Mira Vista Cir',\n",
      "             'Montclaire Cir',\n",
      "             'Oak Ridge Cir',\n",
      "             'Poplar Cir',\n",
      "             'Provence Cir',\n",
      "             'Riviera Cir',\n",
      "             'Sabal Ridge Cir',\n",
      "             'Sago Cir',\n",
      "             'Sailboat Cir',\n",
      "             'Salerno Cir',\n",
      "             'San Simeon Cir',\n",
      "             'Sand Creek Cir',\n",
      "             'Sandpiper Cir',\n",
      "             'Seagrape Cir',\n",
      "             'Sevilla Cir',\n",
      "             'Simonton Cir',\n",
      "             'Spoonbill Cir',\n",
      "             'St Tropez Cir',\n",
      "             'Sunflower Cir',\n",
      "             'Tanglewood Cir',\n",
      "             'Town Center Cir',\n",
      "             'Tulip Cir',\n",
      "             'Victoria Pointe Cir',\n",
      "             'Vineyard Cir',\n",
      "             'Waterside Cir',\n",
      "             'Whitehead Cir']),\n",
      " 'Circle': set(['East Rogers Circle',\n",
      "                'Kendale Lakes Circle',\n",
      "                'Magellan Circle',\n",
      "                'Marina Cove Circle',\n",
      "                'Misty Oaks Circle',\n",
      "                'North Oak Haven Circle',\n",
      "                'Northwest 9th Street Circle',\n",
      "                'Saratoga Park Circle',\n",
      "                'South Oak Haven Circle',\n",
      "                'South Rogers Circle',\n",
      "                'Southwest 147th Court Circle',\n",
      "                'Southwest 68th Court Circle',\n",
      "                'Southwest 73rd Terrace Circle',\n",
      "                'West Oak Haven Circle',\n",
      "                'West Rogers Circle']),\n",
      " 'Columbia': set(['Columbia']),\n",
      " 'Concession': set(['Grand Concession']),\n",
      " 'Ct': set(['Ansley Ct',\n",
      "            'Bay Ct',\n",
      "            'Bay Isle Ct',\n",
      "            'Bay Pointe Ct',\n",
      "            'Boston Ct',\n",
      "            'Cameron Ct',\n",
      "            'Cedar Ct',\n",
      "            'Cherrywood Ct',\n",
      "            'Clermont Ct',\n",
      "            'Condor Ct',\n",
      "            'Crossbill Ct',\n",
      "            'Croton Ct',\n",
      "            'Crystal Ct',\n",
      "            'Cygnus Ct',\n",
      "            'Danielle Ct',\n",
      "            'Deerpath Ct',\n",
      "            'Eagle Ct',\n",
      "            'Eagle Run Ct',\n",
      "            'Eagle Watch Ct',\n",
      "            'Edgewater Ct',\n",
      "            'Egret Ct',\n",
      "            'Fairfax Ct',\n",
      "            'Fleming Ct',\n",
      "            'Fox Creek Ct',\n",
      "            'Fox Run Ct',\n",
      "            'Glenwood Ct',\n",
      "            'Greenbrier Ct',\n",
      "            'Gulfstream Ct',\n",
      "            'Hampton Ct',\n",
      "            'Harbor Ct',\n",
      "            'Hawks Ct',\n",
      "            'Holly Ct',\n",
      "            'Hunter Ct',\n",
      "            'Iris Ct',\n",
      "            'Ironwood Ct',\n",
      "            'Jade Ct',\n",
      "            'Jardin Ct',\n",
      "            'Key West Ct',\n",
      "            'Lake Crest Ct',\n",
      "            'Lakewood Ct',\n",
      "            'Lantana Ct',\n",
      "            'Lighthouse Ct',\n",
      "            'Manor Ct',\n",
      "            'Maplewood Ct',\n",
      "            'Martin Ct',\n",
      "            'Meadowood Ct',\n",
      "            'Miller Ct',\n",
      "            'Montclaire Ct',\n",
      "            'Monterey Ct',\n",
      "            'Oakbrook Ct',\n",
      "            'Oakmont Ct',\n",
      "            'Osprey Ct',\n",
      "            'Park Ct',\n",
      "            'Patio Village Ct',\n",
      "            'Penta Ct',\n",
      "            'Pine Ridge Ct',\n",
      "            'Poinciana Ct',\n",
      "            'Pompeii Ct',\n",
      "            'Princeton Ct',\n",
      "            'Quail Ct',\n",
      "            'Riviera Ct',\n",
      "            'Royal Poinciana Ct',\n",
      "            'SW 4th Ct',\n",
      "            'SW 5th Ct',\n",
      "            'Sapphire Ct',\n",
      "            'Smoke Tree Ct',\n",
      "            'Sorrel Ct',\n",
      "            'Stillwater Ct',\n",
      "            'Tamarind Ct',\n",
      "            'Thistle Creek Ct',\n",
      "            'Verona Ct',\n",
      "            'Water Ridge Ct',\n",
      "            'Waterview Ct',\n",
      "            'West 28th Ct',\n",
      "            'Woodfall Ct']),\n",
      " 'Cv': set(['Sapphire Cv']),\n",
      " 'Dr': set(['Bay Isle Dr',\n",
      "            'Bay Pointe Dr',\n",
      "            'Bermuda Springs Dr',\n",
      "            'Cambridge Dr',\n",
      "            'Cameron Dr',\n",
      "            'Canary Island Dr',\n",
      "            'Carrington Dr',\n",
      "            'Cascade Falls Dr',\n",
      "            'Cedar Falls Dr',\n",
      "            'Chinaberry Dr',\n",
      "            'Conservation Dr',\n",
      "            'Creekford Dr',\n",
      "            'Diamond Dr',\n",
      "            'Diamond Head Dr',\n",
      "            'E Bay Dr',\n",
      "            'E Bayridge Dr',\n",
      "            'Eagle Run Dr',\n",
      "            'Edgewater Dr',\n",
      "            'Emerald Estates Dr',\n",
      "            'Executive Park Dr',\n",
      "            'Fairfield Meadows Dr',\n",
      "            'Forest Dr',\n",
      "            'Fox Ridge Dr',\n",
      "            'Golden Cane Dr',\n",
      "            'Golf View Dr',\n",
      "            'Golfview Dr',\n",
      "            'Harbour Side Dr',\n",
      "            'Hemingway Dr',\n",
      "            'Heritage Dr',\n",
      "            'Jardin Dr',\n",
      "            'La Costa Dr',\n",
      "            'Laguna Springs Dr',\n",
      "            'Lake Point Dr',\n",
      "            'Lake Tree Dr',\n",
      "            'Lakeshore Dr',\n",
      "            'Lakeview Dr',\n",
      "            'Lakewood Dr',\n",
      "            'Lantana Dr',\n",
      "            'Madeira Dr',\n",
      "            'Magnolia Ridge Dr',\n",
      "            'Mahogany Ridge Dr',\n",
      "            'Malibu Dr',\n",
      "            'Mallard Dr',\n",
      "            'Manatee Isles Dr',\n",
      "            'Marina Dr',\n",
      "            'Meadowood Dr',\n",
      "            'Montclaire Dr',\n",
      "            'Nandina Dr',\n",
      "            'Nautica Dr',\n",
      "            'Nighthawk Dr',\n",
      "            'Oakbrook Dr',\n",
      "            'Opal Creek Dr',\n",
      "            'Palermo Dr',\n",
      "            'Peppertree Dr',\n",
      "            'Pine Branch Dr',\n",
      "            'Pine Lake Dr',\n",
      "            'Pinecrest Dr',\n",
      "            'Pinehurst Dr',\n",
      "            'Poinciana Dr',\n",
      "            'Pond Apple Dr',\n",
      "            'Presidio Dr',\n",
      "            'Primrose Dr',\n",
      "            'Quail Roost Dr',\n",
      "            'Royal Poinciana Dr',\n",
      "            'S Manor Dr',\n",
      "            'San Remo Dr',\n",
      "            'Sanctuary Dr',\n",
      "            'Sapphire Dr',\n",
      "            'Savannah Falls Dr',\n",
      "            'Skylark Dr',\n",
      "            'Sorrento Dr',\n",
      "            'Spinnaker Dr',\n",
      "            'Springside Dr',\n",
      "            'Stanton Dr',\n",
      "            'Stonemont Dr',\n",
      "            'Tree Top Dr',\n",
      "            'Verona Lake Dr',\n",
      "            'Victoria Isle Dr',\n",
      "            'Village Lake Dr',\n",
      "            'Vista Meadows Dr',\n",
      "            'W Bayridge Dr',\n",
      "            'Water Ridge Dr',\n",
      "            'Waters Edge Dr',\n",
      "            'Waterview Dr',\n",
      "            'Willow Ridge Dr']),\n",
      " 'Extension': set(['Northwest 7th Avenue Extension']),\n",
      " 'Highway': set(['East Dixie Highway',\n",
      "                 'Federal Highway',\n",
      "                 'Memorial Highway',\n",
      "                 'North Dixie Highway',\n",
      "                 'North Federal Highway',\n",
      "                 'Old Dixie Highway',\n",
      "                 'South Dixie Highway',\n",
      "                 'South Federal Highway',\n",
      "                 'West Dixie Highway']),\n",
      " 'Holw': set(['Fox Holw']),\n",
      " 'Huntington': set(['Huntington']),\n",
      " 'Hwy': set(['S Dixie Hwy']),\n",
      " 'Inverness': set(['Inverness']),\n",
      " 'Isle': set(['Sapphire Isle']),\n",
      " 'Lake': set(['Amber Lake', 'Ruby Lake']),\n",
      " 'Ln': set(['Amber Ln',\n",
      "            'Andromeda Ln',\n",
      "            'Aspen Ln',\n",
      "            'Azure Ln',\n",
      "            'Bamboo Ln',\n",
      "            'Bayridge Ln',\n",
      "            'Bayside Ln',\n",
      "            'Blossom Ln',\n",
      "            'Bunting Ln',\n",
      "            'Cambridge Ln',\n",
      "            'Camellia Ln',\n",
      "            'Carrington Ln',\n",
      "            'Cherry Ln',\n",
      "            'Chestnut Ln',\n",
      "            'Cove Ln',\n",
      "            'Crestview Ln',\n",
      "            'Crossbill Ln',\n",
      "            'Cypress Ln',\n",
      "            'Daisy Ln',\n",
      "            'Deerwood Ln',\n",
      "            'Diamond Pointe Ln',\n",
      "            'Eagle Run Ln',\n",
      "            'Eagle Watch Ln',\n",
      "            'Egret Ln',\n",
      "            'Fairfax Ln',\n",
      "            'Fairway Ln',\n",
      "            'Foxtail Ln',\n",
      "            'Greenbriar Ln',\n",
      "            'Heron Ridge Ln',\n",
      "            'Honeysuckle Ln',\n",
      "            'Ibis Ln',\n",
      "            'Jardin Ln',\n",
      "            'Kelly Ln',\n",
      "            'La Costa Ln',\n",
      "            'Lake Ridge Ln',\n",
      "            'Live Oak Ln',\n",
      "            'Lone Pine Ln',\n",
      "            'Mallard Ln',\n",
      "            'Mariners Ln',\n",
      "            'Mayfair Ln',\n",
      "            'Meadow Ln',\n",
      "            'Newport Ln',\n",
      "            'Oak Ridge Ln',\n",
      "            'Oakbrook Ln',\n",
      "            'Oakwood Ln',\n",
      "            'Old Still Ln',\n",
      "            'Orange Tree Ln',\n",
      "            'Orion Ln',\n",
      "            'Pasa Verde Ln',\n",
      "            'Patio Village Ln',\n",
      "            'Pheasant Ln',\n",
      "            'Pine Ridge Ln',\n",
      "            'Pinewood Ln',\n",
      "            'Saddle Ln',\n",
      "            'Saddlebrook Ln',\n",
      "            'Sago Ln',\n",
      "            'San Simeon Ln',\n",
      "            'Sandalwood Ln',\n",
      "            'Sapphire Ln',\n",
      "            'Schooner Ln',\n",
      "            'Shadyside Ln',\n",
      "            'Silktree Ln',\n",
      "            'Sirius Ln',\n",
      "            'Sparrow Ln',\n",
      "            'Staghorn Ln',\n",
      "            'Stallion Ln',\n",
      "            'Stonemont Ln',\n",
      "            'Surrey Ln',\n",
      "            'Trailmore Ln',\n",
      "            'Twin Branch Ln',\n",
      "            'Veracruz Ln',\n",
      "            'Victoria Isle Ln',\n",
      "            'Victoria Pointe Ln',\n",
      "            'Vista Grove Ln',\n",
      "            'Waterbrook Ln',\n",
      "            'Waterview Ln',\n",
      "            'Westwood Ln',\n",
      "            'Willow Ln',\n",
      "            'Windsor Ln',\n",
      "            'Winterberry Ln']),\n",
      " 'Longview': set(['Longview']),\n",
      " 'Medinah': set(['Medinah']),\n",
      " 'Mnr': set(['Cypress Mnr',\n",
      "             'Jardin Mnr',\n",
      "             'Oakbrook Mnr',\n",
      "             'Riviera Mnr',\n",
      "             'Sapphire Mnr']),\n",
      " 'Muirfield': set(['Muirfield']),\n",
      " 'North': set(['Falls Circle Drive North']),\n",
      " 'Northwest': set(['Broken Sound Parkway Northwest']),\n",
      " 'Oakmont': set(['Oakmont']),\n",
      " 'Path': set(['Northwest 114th Path',\n",
      "              'SW 138th Path',\n",
      "              'Southwest 104th Path',\n",
      "              'Southwest 153rd Path']),\n",
      " 'Pkwy': set(['Glades Pkwy', 'Meridian Pkwy', 'N Commerce Pkwy']),\n",
      " 'Pl': set(['Diamond Pl',\n",
      "            'Laurel Pl',\n",
      "            'Palm Pl',\n",
      "            'Palmer Pl',\n",
      "            'Sapphire Pl',\n",
      "            'Verona Pl']),\n",
      " 'Plaza': set(['Southwest 80th Street Plaza', 'West Circle Plaza']),\n",
      " 'Pt': set(['Water Pt']),\n",
      " 'Raleigh': set(['Raleigh']),\n",
      " 'Rd': set(['Bald Cypress Rd',\n",
      "            'Banks Rd',\n",
      "            'Birchwood Rd',\n",
      "            'Bird Rd',\n",
      "            'Briar Ridge Rd',\n",
      "            'Bridgeton Rd',\n",
      "            'Chimney Rock Rd',\n",
      "            'Coronado Rd',\n",
      "            'Country Isles Rd',\n",
      "            'Deer Creek Rd',\n",
      "            'Elm Grove Rd',\n",
      "            'Emerald Cove Rd',\n",
      "            'Fairmont Rd',\n",
      "            'Falling Water Rd',\n",
      "            'Garden Rd',\n",
      "            'Golf Club Rd',\n",
      "            'Greenwood Rd',\n",
      "            'Hackney Rd',\n",
      "            'Heron Rd',\n",
      "            'Hunter Rd',\n",
      "            'Lincoln Rd',\n",
      "            'Luckie Rd',\n",
      "            'Mallard Rd',\n",
      "            'Paddock Rd',\n",
      "            'Racquet Club Rd',\n",
      "            'Ranch Rd',\n",
      "            'Regal Cove Rd',\n",
      "            'River Oaks Rd',\n",
      "            'S Red Rd',\n",
      "            'Saddle Club Rd',\n",
      "            'Seabay Rd',\n",
      "            'Seminole Pratt Whitney Rd',\n",
      "            'Slippery Rock Rd',\n",
      "            'South Post Rd',\n",
      "            'Talavera Rd',\n",
      "            'Timberline Rd',\n",
      "            'Weston Rd',\n",
      "            'Windmill Lake Rd',\n",
      "            'Windmill Ranch Rd']),\n",
      " 'Real': set(['Camino Real', 'Plaza Real']),\n",
      " 'Rey': set(['San Luis Rey']),\n",
      " 'Rouge': set(['Baton Rouge']),\n",
      " 'Row': set(['Diamond Row']),\n",
      " 'Somerset': set(['Somerset']),\n",
      " 'Spgs': set(['Sapphire Springs Spgs']),\n",
      " 'Spinnaker': set(['Spinnaker']),\n",
      " 'Spyglass': set(['Spyglass']),\n",
      " 'Sr': set(['84 Sr']),\n",
      " 'St': set(['Austin St',\n",
      "            'Crystal St',\n",
      "            'Dover St',\n",
      "            'E Hibiscus St',\n",
      "            'Main St',\n",
      "            'Market St',\n",
      "            'Montpeliar St',\n",
      "            'N Hibiscus St',\n",
      "            'Park Ridge St',\n",
      "            'SW 2nd St',\n",
      "            'SW 5th St',\n",
      "            'Sapphire St',\n",
      "            'Stonebrook St',\n",
      "            'Tallahassee St',\n",
      "            'W Hibiscus St']),\n",
      " 'St.': set(['NW 58th St.']),\n",
      " 'Ter': set(['Bluewood Ter',\n",
      "             'Cambridge Ter',\n",
      "             'Cascade Ter',\n",
      "             'Diamond Ter',\n",
      "             'Dockside Ter',\n",
      "             'Ensenada Ter',\n",
      "             'Fishtail Ter',\n",
      "             'Hacienda Ter',\n",
      "             'Hawthorn Ter',\n",
      "             'Jardin Ter',\n",
      "             'Majesty Ter',\n",
      "             'Opal Ter',\n",
      "             'Patio Village Ter',\n",
      "             'Pisces Ter',\n",
      "             'SW 166th Ter',\n",
      "             'SW 167th Ter',\n",
      "             'SW 168th Ter',\n",
      "             'SW 169th Ter',\n",
      "             'Sapphire Ter',\n",
      "             'Silverbell Ter',\n",
      "             'Sycamore Ter',\n",
      "             'Vanda Ter']),\n",
      " 'Terrace': set(['79th Terrace',\n",
      "                 '82nd Terrace',\n",
      "                 'Bay Harbor Terrace',\n",
      "                 'Constant Springs Terrace',\n",
      "                 'Northeast 110th Terrace',\n",
      "                 'Northeast 114th Terrace',\n",
      "                 'Northeast 117th Terrace',\n",
      "                 'Northeast 118th Terrace',\n",
      "                 'Northeast 125th Terrace',\n",
      "                 'Northeast 136th Terrace',\n",
      "                 'Northeast 165th Terrace',\n",
      "                 'Northeast 186th Terrace',\n",
      "                 'Northeast 202nd Terrace',\n",
      "                 'Northeast 204th Terrace',\n",
      "                 'Northeast 205th Terrace',\n",
      "                 'Northeast 207th Terrace',\n",
      "                 'Northeast 208th Terrace',\n",
      "                 'Northeast 210th Circle Terrace',\n",
      "                 'Northeast 212th Terrace',\n",
      "                 'Northeast 213th Terrace',\n",
      "                 'Northeast 214th Terrace',\n",
      "                 'Northeast 26th Terrace',\n",
      "                 'Northeast 33rd Terrace',\n",
      "                 'Northeast 55th Terrace',\n",
      "                 'Northeast 58th Terrace',\n",
      "                 'Northeast 59th Terrace',\n",
      "                 'Northeast 64th Terrace',\n",
      "                 'Northeast 68th Terrace',\n",
      "                 'Northeast 80th Terrace',\n",
      "                 'Northeast 82nd Terrace',\n",
      "                 'Northeast 88th Terrace',\n",
      "                 'Northeast Krome Terrace',\n",
      "                 'Northwest 100th Terrace',\n",
      "                 'Northwest 11th Terrace',\n",
      "                 'Northwest 132nd Terrace',\n",
      "                 'Northwest 139th Terrace',\n",
      "                 'Northwest 13th Terrace',\n",
      "                 'Northwest 154th Terrace',\n",
      "                 'Northwest 158th Terrace',\n",
      "                 'Northwest 16th Terrace',\n",
      "                 'Northwest 174th Terrace',\n",
      "                 'Northwest 17th Terrace',\n",
      "                 'Northwest 18th Terrace',\n",
      "                 'Northwest 19th Terrace',\n",
      "                 'Northwest 1st Terrace',\n",
      "                 'Northwest 21st Terrace',\n",
      "                 'Northwest 29th Terrace',\n",
      "                 'Northwest 2nd Terrace',\n",
      "                 'Northwest 4th Terrace',\n",
      "                 'Northwest 55th Terrace',\n",
      "                 'Northwest 56th Terrace',\n",
      "                 'Northwest 58th Terrace',\n",
      "                 'Northwest 5th Terrace',\n",
      "                 'Northwest 64th Terrace',\n",
      "                 'Northwest 74th Terrace',\n",
      "                 'Northwest 82nd Terrace',\n",
      "                 'Northwest 88th Terrace',\n",
      "                 'Northwest 89th Terrace',\n",
      "                 'Northwest 95th Terrace',\n",
      "                 'Northwest Flagler Terrace',\n",
      "                 'Ocean Terrace',\n",
      "                 'Southeast 14th Terrace',\n",
      "                 'Southeast 29th Terrace',\n",
      "                 'Southwest 106th Terrace',\n",
      "                 'Southwest 10th Terrace',\n",
      "                 'Southwest 110th Terrace',\n",
      "                 'Southwest 111th Terrace',\n",
      "                 'Southwest 11th Terrace',\n",
      "                 'Southwest 13th Terrace',\n",
      "                 'Southwest 14th Terrace',\n",
      "                 'Southwest 152nd Terrace',\n",
      "                 'Southwest 16th Terrace',\n",
      "                 'Southwest 170th Terrace',\n",
      "                 'Southwest 172nd Terrace',\n",
      "                 'Southwest 186th Terrace',\n",
      "                 'Southwest 188th Terrace',\n",
      "                 'Southwest 18th Terrace',\n",
      "                 'Southwest 19th Terrace',\n",
      "                 'Southwest 208th Terrace',\n",
      "                 'Southwest 22nd Terrace',\n",
      "                 'Southwest 23rd Terrace',\n",
      "                 'Southwest 24th Terrace',\n",
      "                 'Southwest 25th Terrace',\n",
      "                 'Southwest 26th Terrace',\n",
      "                 'Southwest 27th Terrace',\n",
      "                 'Southwest 2nd Terrace',\n",
      "                 'Southwest 312th Terrace',\n",
      "                 'Southwest 39th Terrace',\n",
      "                 'Southwest 45th Terrace',\n",
      "                 'Southwest 46th Terrace',\n",
      "                 'Southwest 48th Terrace',\n",
      "                 'Southwest 58th Terrace',\n",
      "                 'Southwest 5th Terrace',\n",
      "                 'Southwest 64th Terrace',\n",
      "                 'Southwest 68th Terrace',\n",
      "                 'Southwest 73rd Circle Terrace',\n",
      "                 'Southwest 74th Terrace',\n",
      "                 'Southwest 76th Terrace',\n",
      "                 'Southwest 7th Terrace',\n",
      "                 'Southwest 82nd Terrace',\n",
      "                 'Southwest 89th Terrace',\n",
      "                 'Southwest 91st Terrace',\n",
      "                 'Southwest 97th Terrace',\n",
      "                 'Southwest 9th Terrace',\n",
      "                 'Southwest Flagler Terrace']),\n",
      " 'Trace': set(['wellington Trace']),\n",
      " 'Trce': set(['Indian Trce']),\n",
      " 'Trl': set(['Palmetto Trl', 'Sabal Trl', 'Turquoise Trl']),\n",
      " 'W': set(['Miami Lakes Drive W']),\n",
      " 'Way': set(['Alhambra Way',\n",
      "             'Allamanda Way',\n",
      "             'Amber Way',\n",
      "             'Areca Way',\n",
      "             'Azure Way',\n",
      "             'Banyan Way',\n",
      "             'Barcelona Way',\n",
      "             'Bedford Way',\n",
      "             'Biltmore Way',\n",
      "             'Birchwood Way',\n",
      "             'Borealis Way',\n",
      "             'Breakers Way',\n",
      "             'Bridgeton Way',\n",
      "             'Cardinal Way',\n",
      "             'Cinnamon Way',\n",
      "             'Coral Way',\n",
      "             'Crescent Way',\n",
      "             'Diamond Way',\n",
      "             'Dogwood Way',\n",
      "             'E Coquina Way',\n",
      "             'Eastlake Way',\n",
      "             'Espanola Way',\n",
      "             'Fairmont Way',\n",
      "             'Harbor Way',\n",
      "             'Heritage Way',\n",
      "             'Hickory Way',\n",
      "             'Hidden Valley Way',\n",
      "             'Hunters Run Way',\n",
      "             'Island Way',\n",
      "             'Jardin Way',\n",
      "             'Kapok Way',\n",
      "             'La Costa Way',\n",
      "             'Leeward Way',\n",
      "             'N Coquina Way',\n",
      "             'Northwest 105th Way',\n",
      "             'Pasadena Way',\n",
      "             'Patio Village Way',\n",
      "             'Peregrine Way',\n",
      "             'Phoenix Way',\n",
      "             'Pigeon Plum Way',\n",
      "             'Plumosa Way',\n",
      "             'Redwood Way',\n",
      "             'Royal Grove Way',\n",
      "             'Royal Palm Way',\n",
      "             'S Coquina Way',\n",
      "             'SW 168th Way',\n",
      "             'SW 5th Way',\n",
      "             'Sabal Way',\n",
      "             'San Simeon Way',\n",
      "             'Silver Palm Way',\n",
      "             'Somerset Way',\n",
      "             'Stone Ridge Way',\n",
      "             'Sugarwood Way',\n",
      "             'Sunset Way',\n",
      "             'Tupelo Way',\n",
      "             'Via Abitare Way',\n",
      "             'Victoria Isle Way',\n",
      "             'Vista Way',\n",
      "             'W Coquina Way',\n",
      "             'West 27th Way',\n",
      "             'West 29th Way',\n",
      "             'West 5th Way',\n",
      "             'Zenith Way']),\n",
      " 'Wentworth': set(['Wentworth'])}\n"
     ]
    }
   ],
   "source": [
    "# print out unexpected street names\n",
    "pprint.pprint(dict(st_types))"
   ]
  },
  {
   "cell_type": "markdown",
   "metadata": {},
   "source": [
    "Based on the auditing results, I came up with the following mapping dictionary, which addressed the abbrivations and the incorrect names.\n",
    "\n",
    "Create a function that correct incorrect streer names.\n",
    "\n",
    "So here is the **problem encountered in the map**: \n",
    "\n",
    "1. The data in the .osm has over-abbreviated street names such as (“S Tryon St Ste 105”).\n",
    "* The data in the .osm do not have a uniform data format, such as 'Ave' and 'Ave.'. It has a tiny point there.\n",
    "\n",
    "To solve the problem, I decide to create a dictionary for correcting street names"
   ]
  },
  {
   "cell_type": "code",
   "execution_count": 10,
   "metadata": {
    "collapsed": true
   },
   "outputs": [],
   "source": [
    "# creating a dictionary for correcting street names\n",
    "mapping = { \"Ct\": \"Court\",\n",
    "            \"STREET\":\"Street\",\n",
    "           \"street\":\"Street\",\n",
    "            \"St\": \"Street\",\n",
    "            'Trce':'Trace',\n",
    "            'Ter':'Terrace',\n",
    "            \"Cir\":\"Circle\",\n",
    "            \"St.\": \"Street\",\n",
    "            \"St,\": \"Street\",\n",
    "            'Pkwy':'Parkway',\n",
    "            \"Ave\": \"Avenue\",\n",
    "            \"Ave.\": \"Avenue\",\n",
    "            \"road.\": \"Road\",\n",
    "            \"Riad\":\"Road\",\n",
    "            \"Ride\":\"Road\",\n",
    "            \"Rd\":\"Road\",\n",
    "            \"Hwy\": \"Highway\",\n",
    "            \"HIghway\": \"Highway\",\n",
    "            \"Pkwy\": \"Parkway\",\n",
    "            \"Pl\": \"Place\",      \n",
    "            \"place\": \"Place\",\n",
    "            \"Sq.\": \"Square\"}\n",
    "\n",
    "# function that corrects incorrect street names\n",
    "def update_name(name, mapping):\n",
    "    for key in mapping:\n",
    "        if key in name:\n",
    "            name = string.replace(name,key,mapping[key])\n",
    "    return name"
   ]
  },
  {
   "cell_type": "markdown",
   "metadata": {},
   "source": [
    "Audit zipcodes\n",
    "\n",
    "We found that the zip code remain errors, all the zip codes there should start with 331 [Miami Zip Code](http://www.zipmap.net/Florida/Miami-Dade_County/Z_Downtown.htm)\n",
    "\n",
    "![](zipcode.jpg)"
   ]
  },
  {
   "cell_type": "code",
   "execution_count": 11,
   "metadata": {
    "collapsed": false
   },
   "outputs": [
    {
     "name": "stdout",
     "output_type": "stream",
     "text": [
      "33027 2\n",
      "33030 58\n",
      "33496 2\n",
      "33498 1\n",
      "33054 57\n",
      "33321 1\n",
      "33326 639\n",
      "33327 665\n",
      "33324 1\n",
      "33470 1\n",
      "33406-1507 1\n",
      "33014 25\n",
      "33015 64\n",
      "33016 74\n",
      "33010 114\n",
      "33012 56\n",
      "33013 27\n",
      "3301811 1\n",
      "33411 2\n",
      "33018 44\n",
      "33055 5\n",
      "33056 13\n",
      "33311 5\n",
      "33487-3502 1\n",
      "33314 1\n",
      "33313 4\n",
      "33409 1\n",
      "33406 2\n",
      "33034 32\n",
      "33035 9\n",
      "33032 24\n",
      "33441 1\n",
      "33401 1\n",
      "33031 3\n",
      "33351 2\n",
      "33067-3176 1\n",
      "33331 289\n",
      "33442 2\n",
      "33461-3021 1\n",
      "33332 202\n",
      "33460 1\n",
      "33462 1\n",
      "33410 3\n",
      "33404 3\n",
      "33309 2\n",
      "11890 1\n",
      "33064-1324 1\n",
      "33388 1\n",
      "33063 1\n",
      "33413 1\n",
      "33065 3\n",
      "33064 1\n",
      "33067 4\n",
      "33069 2\n",
      "33068 1\n",
      "33033 44\n",
      "33432 3\n",
      "33301 2\n",
      "33009 1\n",
      "33431 1\n",
      "33304 9\n",
      "33319 3\n",
      "33308 5\n",
      "33024 1\n",
      "33412 1\n",
      "33026 2\n",
      "33414 10\n",
      "33020 1\n",
      "33004 2\n"
     ]
    }
   ],
   "source": [
    "def audit_zipcodes(osmfile):\n",
    "    # iter through all zip codes, collect all the zip codes that does not\n",
    "    # start with 331\n",
    "    osm_file = open(osmfile, \"r\")\n",
    "    zip_codes = {}\n",
    "    for event, elem in cET.iterparse(osm_file, events=(\"start\",)):\n",
    "        if elem.tag == \"node\" or elem.tag == \"way\":\n",
    "            for tag in elem.iter(\"tag\"):\n",
    "                if tag.attrib['k'] == \"addr:postcode\" and not tag.attrib['v'].startswith('331'):\n",
    "                    if tag.attrib['v'] not in zip_codes:\n",
    "                        zip_codes[tag.attrib['v']] = 1\n",
    "                    else:\n",
    "                        zip_codes[tag.attrib['v']] += 1\n",
    "    return zip_codes\n",
    "\n",
    "zipcodes = audit_zipcodes(miamiOSM)\n",
    "\n",
    "for zipcode in zipcodes:\n",
    "    print zipcode, zipcodes[zipcode]\n",
    "\n",
    "CREATED = [ \"version\", \"changeset\", \"timestamp\", \"user\", \"uid\"]"
   ]
  },
  {
   "cell_type": "markdown",
   "metadata": {},
   "source": [
    "Process the node and way tags."
   ]
  },
  {
   "cell_type": "code",
   "execution_count": 12,
   "metadata": {
    "collapsed": true
   },
   "outputs": [],
   "source": [
    "def shape_element(element):\n",
    "    node = {}\n",
    "    node[\"created\"]={}\n",
    "    node[\"address\"]={}\n",
    "    node[\"pos\"]=[]\n",
    "    refs=[]\n",
    "\n",
    "    # we only process the node and way tags\n",
    "    if element.tag == \"node\" or element.tag == \"way\" :\n",
    "        if \"id\" in element.attrib:\n",
    "            node[\"id\"]=element.attrib[\"id\"]\n",
    "        node[\"type\"]=element.tag\n",
    "\n",
    "        if \"visible\" in element.attrib.keys():\n",
    "            node[\"visible\"]=element.attrib[\"visible\"]\n",
    "\n",
    "        # the key-value pairs with attributes in the CREATED list are\n",
    "        # added under key \"created\"\n",
    "        for elem in CREATED:\n",
    "            if elem in element.attrib:\n",
    "                node[\"created\"][elem]=element.attrib[elem]\n",
    "\n",
    "        # attributes for latitude and longitude are added to a \"pos\" array\n",
    "        # include latitude value\n",
    "        if \"lat\" in element.attrib:\n",
    "            node[\"pos\"].append(float(element.attrib[\"lat\"]))\n",
    "        # include longitude value\n",
    "        if \"lon\" in element.attrib:\n",
    "            node[\"pos\"].append(float(element.attrib[\"lon\"]))\n",
    "\n",
    "\n",
    "        for tag in element.iter(\"tag\"):\n",
    "            if not(problemchars.search(tag.attrib['k'])):\n",
    "                if tag.attrib['k'] == \"addr:housenumber\":\n",
    "                    node[\"address\"][\"housenumber\"]=tag.attrib['v']\n",
    "\n",
    "                if tag.attrib['k'] == \"addr:postcode\":\n",
    "                    node[\"address\"][\"postcode\"]=tag.attrib['v']\n",
    "\n",
    "                # handling the street attribute, update incorrect names using\n",
    "                # the strategy developed before\n",
    "                if tag.attrib['k'] == \"addr:street\":\n",
    "                    node[\"address\"][\"street\"]=tag.attrib['v']\n",
    "                    node[\"address\"][\"street\"] = update_name(node[\"address\"][\"street\"], mapping)\n",
    "\n",
    "                if tag.attrib['k'].find(\"addr\")==-1:\n",
    "                    node[tag.attrib['k']]=tag.attrib['v']\n",
    "\n",
    "        for nd in element.iter(\"nd\"):\n",
    "             refs.append(nd.attrib[\"ref\"])\n",
    "\n",
    "        if node[\"address\"] =={}:\n",
    "            node.pop(\"address\", None)\n",
    "\n",
    "        if refs != []:\n",
    "            node[\"node_refs\"]=refs\n",
    "\n",
    "        return node\n",
    "    else:\n",
    "        return None"
   ]
  },
  {
   "cell_type": "markdown",
   "metadata": {},
   "source": [
    "Process the xml openstreetmap file, write a json out file and return a list of dictionaries"
   ]
  },
  {
   "cell_type": "code",
   "execution_count": 13,
   "metadata": {
    "collapsed": false
   },
   "outputs": [],
   "source": [
    "def process_map(file_in, pretty = False):\n",
    "    file_out = \"{0}.json\".format(file_in)\n",
    "    data = []\n",
    "    with codecs.open(file_out, \"w\") as fo:\n",
    "        for _, element in cET.iterparse(file_in):\n",
    "            el = shape_element(element)\n",
    "            if el:\n",
    "                data.append(el)\n",
    "                if pretty:\n",
    "                    fo.write(json.dumps(el, indent=2)+\"\\n\")\n",
    "                else:\n",
    "                    fo.write(json.dumps(el) + \"\\n\")\n",
    "    return data"
   ]
  },
  {
   "cell_type": "markdown",
   "metadata": {},
   "source": [
    "Make .osm to .json"
   ]
  },
  {
   "cell_type": "code",
   "execution_count": 14,
   "metadata": {
    "collapsed": true
   },
   "outputs": [],
   "source": [
    "# process the file\n",
    "data = process_map(miamiOSM, True)"
   ]
  },
  {
   "cell_type": "markdown",
   "metadata": {},
   "source": [
    "### Insert the data into local MongoDB Database"
   ]
  },
  {
   "cell_type": "code",
   "execution_count": 15,
   "metadata": {
    "collapsed": false
   },
   "outputs": [
    {
     "name": "stderr",
     "output_type": "stream",
     "text": [
      "D:\\Users\\Administrator\\Anaconda2\\lib\\site-packages\\ipykernel\\__main__.py:5: DeprecationWarning: insert is deprecated. Use insert_one or insert_many instead.\n"
     ]
    },
    {
     "data": {
      "text/plain": [
       "Collection(Database(MongoClient(host=['localhost:27017'], document_class=dict, tz_aware=False, connect=True), u'miamiOSM'), u'miamiMap')"
      ]
     },
     "execution_count": 15,
     "metadata": {},
     "output_type": "execute_result"
    }
   ],
   "source": [
    "# Insert the data into local MongoDB Database\n",
    "client = MongoClient()\n",
    "db = client.miamiOSM\n",
    "collection = db.miamiMap\n",
    "collection.insert(data)\n",
    "\n",
    "collection"
   ]
  },
  {
   "cell_type": "markdown",
   "metadata": {},
   "source": [
    "![](微信截图_20161208150702.png)"
   ]
  },
  {
   "cell_type": "markdown",
   "metadata": {},
   "source": [
    "# Data Overview \n",
    "\n",
    "## According to the file, we have got the information of:\n",
    "\n",
    "1. Size of the original xml file.\n",
    "* Size of the processed json file\n",
    "* The Number of documents\n",
    "* The Number of Unique users\n",
    "* The Number of Nodes\n",
    "* The Number of Ways\n",
    "* The Number of Methods Used to Create Data Entry\n",
    "* The Number of Ways\n",
    "* Most popular cuisines\n",
    "* Universities"
   ]
  },
  {
   "cell_type": "code",
   "execution_count": 16,
   "metadata": {
    "collapsed": false
   },
   "outputs": [
    {
     "data": {
      "text/plain": [
       "55L"
      ]
     },
     "execution_count": 16,
     "metadata": {},
     "output_type": "execute_result"
    }
   ],
   "source": [
    "# size of the original xml file\n",
    "os.path.getsize(miamiOSM)/1024/1024"
   ]
  },
  {
   "cell_type": "code",
   "execution_count": 17,
   "metadata": {
    "collapsed": false
   },
   "outputs": [
    {
     "data": {
      "text/plain": [
       "822L"
      ]
     },
     "execution_count": 17,
     "metadata": {},
     "output_type": "execute_result"
    }
   ],
   "source": [
    "# size of the processed json file\n",
    "os.path.getsize(os.path.join(path, \"miami_florida.osm.json\"))/1024/1024"
   ]
  },
  {
   "cell_type": "code",
   "execution_count": 18,
   "metadata": {
    "collapsed": false
   },
   "outputs": [
    {
     "data": {
      "text/plain": [
       "389097"
      ]
     },
     "execution_count": 18,
     "metadata": {},
     "output_type": "execute_result"
    }
   ],
   "source": [
    "# The Number of documents\n",
    "collection.find().count()"
   ]
  },
  {
   "cell_type": "code",
   "execution_count": 19,
   "metadata": {
    "collapsed": false
   },
   "outputs": [
    {
     "data": {
      "text/plain": [
       "345418"
      ]
     },
     "execution_count": 19,
     "metadata": {},
     "output_type": "execute_result"
    }
   ],
   "source": [
    "# The Number of Nodes\n",
    "collection.find({\"type\":\"node\"}).count()"
   ]
  },
  {
   "cell_type": "code",
   "execution_count": 20,
   "metadata": {
    "collapsed": false
   },
   "outputs": [
    {
     "data": {
      "text/plain": [
       "43555"
      ]
     },
     "execution_count": 20,
     "metadata": {},
     "output_type": "execute_result"
    }
   ],
   "source": [
    "# The Number of Ways\n",
    "collection.find({\"type\":\"way\"}).count()"
   ]
  },
  {
   "cell_type": "code",
   "execution_count": 21,
   "metadata": {
    "collapsed": false
   },
   "outputs": [
    {
     "name": "stdout",
     "output_type": "stream",
     "text": [
      "{u'_id': u'Potlatch 0.10e', u'count': 2}\n",
      "{u'_id': None, u'count': 389068}\n",
      "{u'_id': u'JOSM', u'count': 15}\n",
      "{u'_id': u'Potlatch 0.8a', u'count': 3}\n",
      "{u'_id': u'Potlatch 0.8b', u'count': 4}\n",
      "{u'_id': u'Potlatch 0.10f', u'count': 5}\n"
     ]
    }
   ],
   "source": [
    "# The Number of Methods Used to Create Data Entry\n",
    "\n",
    "pipeline = [{\"$group\":{\"_id\": \"$created_by\",\"count\": {\"$sum\": 1}}}]\n",
    "result = collection.aggregate(pipeline)\n",
    "for doc in result:\n",
    "    pprint.pprint(doc)"
   ]
  },
  {
   "cell_type": "code",
   "execution_count": 22,
   "metadata": {
    "collapsed": false
   },
   "outputs": [
    {
     "name": "stdout",
     "output_type": "stream",
     "text": [
      "{u'_id': u'MiamiBuildingsImport', u'proportion': 0.3089640886462759}\n",
      "{u'_id': u'grouper', u'proportion': 0.11397929051110649}\n",
      "{u'_id': u'woodpeck_fixbot', u'proportion': 0.08299729887405968}\n"
     ]
    }
   ],
   "source": [
    "# Proportions of top users' contributions\n",
    "pipeline = [{\"$group\":{\"_id\": \"$created.user\",\n",
    "                       \"count\": {\"$sum\": 1}}},\n",
    "            {\"$project\": {\"proportion\": {\"$divide\" :[\"$count\",collection.find().count()]}}},\n",
    "            {\"$sort\": {\"proportion\": -1}},\n",
    "            {\"$limit\": 3}]\n",
    "result = collection.aggregate(pipeline)\n",
    "for doc in result:\n",
    "    pprint.pprint(doc)"
   ]
  },
  {
   "cell_type": "code",
   "execution_count": 23,
   "metadata": {
    "collapsed": false
   },
   "outputs": [
    {
     "name": "stdout",
     "output_type": "stream",
     "text": [
      "{u'_id': u'pizza', u'count': 12}\n",
      "{u'_id': u'italian', u'count': 5}\n",
      "{u'_id': u'spanish', u'count': 5}\n",
      "{u'_id': u'mexican', u'count': 5}\n",
      "{u'_id': u'american', u'count': 3}\n",
      "{u'_id': u'chinese', u'count': 2}\n",
      "{u'_id': u'sushi', u'count': 2}\n",
      "{u'_id': u'greek', u'count': 2}\n",
      "{u'_id': u'barbecue', u'count': 2}\n",
      "{u'_id': u'sandwich', u'count': 1}\n"
     ]
    }
   ],
   "source": [
    "# Most popular cuisines\n",
    "pipeline = [{\"$match\":{\"amenity\":{\"$exists\":1}, \"amenity\":\"restaurant\", \"cuisine\":{\"$exists\":1}}},\n",
    "            {\"$group\":{\"_id\":\"$cuisine\", \"count\":{\"$sum\":1}}},\n",
    "            {\"$sort\":{\"count\":-1}},\n",
    "            {\"$limit\":10}]\n",
    "result = collection.aggregate(pipeline)\n",
    "for doc in result:\n",
    "    pprint.pprint(doc)"
   ]
  },
  {
   "cell_type": "code",
   "execution_count": 24,
   "metadata": {
    "collapsed": false
   },
   "outputs": [
    {
     "name": "stdout",
     "output_type": "stream",
     "text": [
      "{u'count': 2, u'_id': u'Northwood University - West Palm Beach Campus'}\n",
      "{u'count': 2, u'_id': u'University of Phoenix'}\n",
      "{u'count': 1, u'_id': u'Florida International University - Biscayne Bay Campus'}\n",
      "{u'count': 1, u'_id': u'DeVry University'}\n"
     ]
    }
   ],
   "source": [
    "#  Universities\n",
    "pipeline = [{\"$match\":{\"amenity\":{\"$exists\":1}, \"amenity\": \"university\", \"name\":{\"$exists\":1}}},\n",
    "            {\"$group\":{\"_id\":\"$name\", \"count\":{\"$sum\":1}}},\n",
    "            {\"$sort\":{\"count\":-1}}]\n",
    "result = collection.aggregate(pipeline)\n",
    "for doc in result:\n",
    "    print(doc)"
   ]
  },
  {
   "cell_type": "markdown",
   "metadata": {},
   "source": [
    "# Additional idea"
   ]
  },
  {
   "cell_type": "markdown",
   "metadata": {},
   "source": [
    "### Top 10 appearing amenities."
   ]
  },
  {
   "cell_type": "code",
   "execution_count": 25,
   "metadata": {
    "collapsed": false
   },
   "outputs": [
    {
     "name": "stdout",
     "output_type": "stream",
     "text": [
      "{u'count': 1, u'_id': u'parking_space'}\n",
      "{u'count': 1, u'_id': u'community_centre'}\n",
      "{u'count': 1, u'_id': u'childcare'}\n",
      "{u'count': 1, u'_id': u'weighbridge'}\n",
      "{u'count': 1, u'_id': u'car_wash'}\n",
      "{u'count': 1, u'_id': u'ice_cream'}\n",
      "{u'count': 1, u'_id': u'nightclub'}\n",
      "{u'count': 1, u'_id': u'Optical'}\n",
      "{u'count': 1, u'_id': u'food_court'}\n",
      "{u'count': 1, u'_id': u'ferry_terminal'}\n"
     ]
    }
   ],
   "source": [
    "Top10_appearing=collection.aggregate([{\"$match\":{\"amenity\":{\"$exists\":1}}},\n",
    "{\"$group\":{\"_id\":\"$amenity\",\n",
    "\"count\":{\"$sum\":1}}}, {\"$sort\":{\"count\": 1}}, {\"$limit\":10}])\n",
    "for doc in Top10_appearing:\n",
    "    print(doc)"
   ]
  },
  {
   "cell_type": "markdown",
   "metadata": {},
   "source": [
    "Of course, Parking space are not a appearing amenities. It shows that most people in Miami have at least one auto. \n",
    "\n",
    "In the list, we could easily picture the living in Miami.\n",
    "\n",
    "People drive to work place, but most of them are too busy to take good care of their baby so they will tend to entrust childcare to help. We see a lots of people visit visit nightclub, so the night life of the Miami must be very splendid and the night-life industry is very strong. Also, nightclub is also a place of social communication, so the nightclub is more like a culture in Miami.\n",
    "\n",
    "Car wash and Parking Space are both the places about car.\n",
    "\n",
    "Here we found that the car really take a different status in Miami."
   ]
  },
  {
   "cell_type": "markdown",
   "metadata": {},
   "source": [
    "### Biggest religion : Muslim"
   ]
  },
  {
   "cell_type": "code",
   "execution_count": 29,
   "metadata": {
    "collapsed": false
   },
   "outputs": [
    {
     "name": "stdout",
     "output_type": "stream",
     "text": [
      "{u'count': 1, u'_id': u'muslim'}\n",
      "{u'count': 2, u'_id': u'jewish'}\n",
      "{u'count': 10, u'_id': None}\n"
     ]
    }
   ],
   "source": [
    "Biggest_religion=collection.aggregate([{\"$match\":{\"amenity\":{\"$exists\":1},\n",
    "\"amenity\":\"place_of_worship\"}},\n",
    "{\"$group\":{\"_id\":\"$religion\", \"count\":{\"$sum\":1}}},\n",
    "{\"$sort\":{\"count\": 1}}, {\"$limit\":3}])\n",
    "\n",
    "for doc in Biggest_religion:\n",
    "    print(doc)"
   ]
  },
  {
   "cell_type": "markdown",
   "metadata": {},
   "source": [
    "Muslim is the biggest religion in Miami.\n",
    "\n",
    "However, the main mainstream culture of Miami definitely are not Muslim. So as a religion of strong self-discipline, the conflicts between Muslim and other religion even the atheism will face the possibility of culture shock and some of them may feel annoyed once they meet each other, so I think one of the most social challenge of Miami City is that the balance between the Muslims and others.\n",
    "\n",
    "America is a state of democratic, which means the number of voter do counts for each city's policy. Muslims have the dominated part of this area, they may force local government to meet their requirements or they won't vote for them.\n",
    "\n",
    "Once government use administrative means to control or force the market to sell Moslem food and object to sell common food, others will feel be insulted and here comes the conflicts."
   ]
  },
  {
   "cell_type": "markdown",
   "metadata": {},
   "source": [
    "### Most popular cuisines"
   ]
  },
  {
   "cell_type": "code",
   "execution_count": 31,
   "metadata": {
    "collapsed": false
   },
   "outputs": [
    {
     "name": "stdout",
     "output_type": "stream",
     "text": [
      "{u'_id': u'pizza', u'count': 12}\n",
      "{u'_id': u'italian', u'count': 5}\n",
      "{u'_id': u'spanish', u'count': 5}\n",
      "{u'_id': u'mexican', u'count': 5}\n",
      "{u'_id': u'american', u'count': 3}\n",
      "{u'_id': u'chinese', u'count': 2}\n",
      "{u'_id': u'sushi', u'count': 2}\n",
      "{u'_id': u'greek', u'count': 2}\n",
      "{u'_id': u'barbecue', u'count': 2}\n",
      "{u'_id': u'sandwich', u'count': 1}\n"
     ]
    }
   ],
   "source": [
    "# Most popular cuisines\n",
    "pipeline = [{\"$match\":{\"amenity\":{\"$exists\":1}, \"amenity\":\"restaurant\", \"cuisine\":{\"$exists\":1}}},\n",
    "            {\"$group\":{\"_id\":\"$cuisine\", \"count\":{\"$sum\":1}}},\n",
    "            {\"$sort\":{\"count\":-1}},\n",
    "            {\"$limit\":10}]\n",
    "result = collection.aggregate(pipeline)\n",
    "for doc in result:\n",
    "    pprint.pprint(doc)"
   ]
  },
  {
   "cell_type": "markdown",
   "metadata": {},
   "source": [
    "According to [Wikipedia, Miami](https://en.wikipedia.org/wiki/Miami), Miami is an international city. Miami has a strong bond with other nations.\n",
    "\n",
    "So people there have really strong need of the cuisines all over the world. \n",
    "\n",
    "Pizza and Italian food have strong relationship, so you could found that people there like Italian food most. Pizza is a convenient and delicious food, as a white-collar worker, they will tend to place an order at office when they are too busy to have dinner of lunch. And pizza could share with friends, so once people want "
   ]
  },
  {
   "cell_type": "markdown",
   "metadata": {},
   "source": [
    "# Conclusion\n",
    "\n",
    "After this review of the data it’s obvious that this area is incomplete, though I believe it has been well cleaned for the purposes of this exercise. It interests me to notice a fair amount of GPS data makes it into OpenStreetMap.org on account of users’ efforts, whether by scripting a map editing bot or otherwise. With a rough GPS data processor in place and working together with a more robust data processor similar to data.pyI think it would be possible to input a great amount of cleaned data to OpenStreetMap.org.\n",
    "\n",
    "Due to I do not have the full acknowledge of the location in the Miami, I only correct the area that is obvious remained to be seen.\n",
    "\n",
    "## Suggestions\n",
    "\n",
    "1. This datasets has so many mistakes, such as zip code format. \n",
    "* The data are not detailed enough, so we can't draw a conclusion of the need of the cuisine and food.\n",
    "* Though we found that car has a different status in the life of people live in the Miami. If I want to get more information about this, I need to get more data to solve these questions:\n",
    "    1. How many hours did a normal Miamis spend in cars?\n",
    "    * Where is the most popular place that people visit by auto?\n",
    "    * Each day,how many miles did normal Miamis drive?\n",
    "    * Is there any relationship between culture and cuisine that people like?\n",
    "    * Since we know that cuisine that the public like could be changing all the time, is there any relationship between culture, education, and even the status of the throng? Because the root of the fashion is the upper class. If it is because upper class or one throng or nation are now take dominated part of the upper class that affect the public's choice?\n",
    "    * Why people likes to spent time on their cars? Is there any reliable replacement?\n",
    "    * We know different time, people would choose different food to eat, as a Chinese, I would less likely to choose hamburger as my breakfast because I think it is not suitable or unhealthy. So can we quantity cuisine on time? So we could solve the question of what is the need of the food on different time. \n",
    "\n",
    "Once we get the data of the miles that people drive and most popular place that people visit by auto, we will be able to offer the service of auto that only serve for these time. The profit of the service is really really impressive. However the cost is comparing less.\n",
    "\n",
    "Once we could get the data of the exactly need of the cuisine and food,we could offer a map with the need of the food and sell them to merchant that pause and ponder in front of whether it is suitable or not to run a food business. And the business is guaranteed with solid support.\n",
    "\n",
    "## What potential issues could you see that may arise from the implementation of the solution?\n",
    "\n",
    "So here are the questions expect to be solved.\n",
    "\n",
    "1. How can we get the data and make sure the data is well qualified?\n",
    "* Some people might just choose cuisine in a random, which means that could be a big disturb of our data.\n",
    "* The best cuisine need more than delicious food, the location could also affect the choice, sometimes people think that is hard to choose a restaurant, so they just choose the restaurant nearby to save time. Like Pizza, it is possible because Pizza could serve to office to eat.\n",
    "* On some particular festivals like Chirstmas or Thanksgiving, people would more likely to stay at home,so those days could also affect the reliability of our conclusion."
   ]
  },
  {
   "cell_type": "markdown",
   "metadata": {},
   "source": [
    "# Reference\n",
    "\n",
    "1. MongoDB: The Definitive Guide\n",
    "* SciPy Reference Guide , Release 0.18.1\n",
    "* [Udacity 项目详情](https://classroom.udacity.com/nanodegrees/nd002/parts/0021345404/modules/316820862075463/lessons/3168208620239847/concepts/77135319070923)\n",
    "* [Open Street Map Wiki](https://wiki.openstreetmap.org/wiki/OSM_XML)\n",
    "* [inserting-newlines-in-xml-file-generated-via-xml-etree-elementtree-in-python](http://stackoverflow.com/questions/3095434/inserting-newlines-in-xml-file-generated-via-xml-etree-elementtree-in-python)\n",
    "* [PyMongo Document](https://api.mongodb.com/python/current/)\n",
    "* [Github](https://github.com/ryancheunggit/Udacity/blob/master/P3/code.py)\n",
    "* [Python 正则表达式](http://www.runoob.com/python/python-reg-expressions.html)"
   ]
  }
 ],
 "metadata": {
  "anaconda-cloud": {},
  "hide_input": false,
  "kernelspec": {
   "display_name": "Python [conda root]",
   "language": "python",
   "name": "conda-root-py"
  },
  "language_info": {
   "codemirror_mode": {
    "name": "ipython",
    "version": 3
   },
   "file_extension": ".py",
   "mimetype": "text/x-python",
   "name": "python",
   "nbconvert_exporter": "python",
   "pygments_lexer": "ipython3",
   "version": "3.5.2"
  },
  "latex_envs": {
   "bibliofile": "biblio.bib",
   "cite_by": "apalike",
   "current_citInitial": 1,
   "eqLabelWithNumbers": true,
   "eqNumInitial": 0
  }
 },
 "nbformat": 4,
 "nbformat_minor": 0
}
