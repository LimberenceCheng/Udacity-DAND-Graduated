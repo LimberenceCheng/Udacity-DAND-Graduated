{
 "cells": [
  {
   "cell_type": "markdown",
   "metadata": {},
   "source": [
    "# Introduction"
   ]
  },
  {
   "cell_type": "markdown",
   "metadata": {},
   "source": [
    "# Load and check data(Choose Titanic Data to Analysis)\n",
    "\n",
    "| Variable Name | Description |\n",
    "| ------------- |:-------------:|\n",
    "| Survived     | Survived (1) or died (0) | \n",
    "| Pclass      | Passenger’s class |\n",
    "| Name | Passenger’s name |\n",
    "| Sex | Passenger’s sex|\n",
    "| Age| Passenger’s age|\n",
    "| SibSp | Number of siblings/spouses aboard |\n",
    "| Parch | Number of parents/children aboard |\n",
    "| Ticket | Ticket number |\n",
    "| Fare | Fare |\n",
    "| Cabin | Cabin |\n",
    "| Embarked | Port of embarkation |"
   ]
  },
  {
   "cell_type": "markdown",
   "metadata": {},
   "source": [
    "**Drop the Na in the dataset.**"
   ]
  },
  {
   "cell_type": "code",
   "execution_count": 1,
   "metadata": {
    "collapsed": true
   },
   "outputs": [],
   "source": [
    "import numpy as np\n",
    "import pandas as pd\n",
    "import matplotlib.pyplot as plt\n",
    "import seaborn as sns\n",
    "%matplotlib inline"
   ]
  },
  {
   "cell_type": "code",
   "execution_count": 2,
   "metadata": {
    "collapsed": false
   },
   "outputs": [
    {
     "name": "stdout",
     "output_type": "stream",
     "text": [
      "We have 891 data\n",
      "After we drop the na,we have 183 data\n",
      "Which means that we have drop 708 data\n"
     ]
    }
   ],
   "source": [
    "Titanic_dropna=pd.read_csv(\"titanic_data.csv\").dropna()\n",
    "Titanic_data=pd.read_csv(\"titanic_data.csv\")\n",
    "\n",
    "print \"We have \"+bytes(len(Titanic_data))+\" data\"\n",
    "print \"After we drop the na,we have \"+bytes(len(Titanic_dropna))+\" data\"\n",
    "print \"Which means that we have drop \"+bytes(len(Titanic_data)-len(Titanic_dropna))+\" data\""
   ]
  },
  {
   "cell_type": "markdown",
   "metadata": {},
   "source": [
    "Since we found that there are 708 data is na, we look more closely:"
   ]
  },
  {
   "cell_type": "code",
   "execution_count": 3,
   "metadata": {
    "collapsed": false
   },
   "outputs": [
    {
     "name": "stdout",
     "output_type": "stream",
     "text": [
      "<class 'pandas.core.frame.DataFrame'>\n",
      "RangeIndex: 891 entries, 0 to 890\n",
      "Data columns (total 12 columns):\n",
      "PassengerId    891 non-null int64\n",
      "Survived       891 non-null int64\n",
      "Pclass         891 non-null int64\n",
      "Name           891 non-null object\n",
      "Sex            891 non-null object\n",
      "Age            714 non-null float64\n",
      "SibSp          891 non-null int64\n",
      "Parch          891 non-null int64\n",
      "Ticket         891 non-null object\n",
      "Fare           891 non-null float64\n",
      "Cabin          204 non-null object\n",
      "Embarked       889 non-null object\n",
      "dtypes: float64(2), int64(5), object(5)\n",
      "memory usage: 83.6+ KB\n"
     ]
    }
   ],
   "source": [
    "Titanic_data.info()"
   ]
  },
  {
   "cell_type": "markdown",
   "metadata": {},
   "source": [
    "We found that the Cabin is useless in our data analysis, so I choose to drop them down."
   ]
  },
  {
   "cell_type": "code",
   "execution_count": 4,
   "metadata": {
    "collapsed": false
   },
   "outputs": [],
   "source": [
    "del Titanic_data['Cabin']"
   ]
  },
  {
   "cell_type": "code",
   "execution_count": 5,
   "metadata": {
    "collapsed": false
   },
   "outputs": [
    {
     "name": "stdout",
     "output_type": "stream",
     "text": [
      "Now we have 891 data\n",
      "After we drop the na,we have 712 data\n",
      "Which means that we have drop 179 data\n"
     ]
    }
   ],
   "source": [
    "Titanic_dropna=Titanic_data.dropna()\n",
    "\n",
    "print \"Now we have \"+bytes(len(Titanic_data))+\" data\"\n",
    "print \"After we drop the na,we have \"+bytes(len(Titanic_dropna))+\" data\"\n",
    "print \"Which means that we have drop \"+bytes(len(Titanic_data)-len(Titanic_dropna))+\" data\""
   ]
  },
  {
   "cell_type": "markdown",
   "metadata": {},
   "source": [
    "Now we could use data to do analysis."
   ]
  },
  {
   "cell_type": "code",
   "execution_count": 6,
   "metadata": {
    "collapsed": false
   },
   "outputs": [
    {
     "data": {
      "text/html": [
       "<div>\n",
       "<table border=\"1\" class=\"dataframe\">\n",
       "  <thead>\n",
       "    <tr style=\"text-align: right;\">\n",
       "      <th></th>\n",
       "      <th>PassengerId</th>\n",
       "      <th>Survived</th>\n",
       "      <th>Pclass</th>\n",
       "      <th>Name</th>\n",
       "      <th>Sex</th>\n",
       "      <th>Age</th>\n",
       "      <th>SibSp</th>\n",
       "      <th>Parch</th>\n",
       "      <th>Ticket</th>\n",
       "      <th>Fare</th>\n",
       "      <th>Embarked</th>\n",
       "    </tr>\n",
       "  </thead>\n",
       "  <tbody>\n",
       "    <tr>\n",
       "      <th>0</th>\n",
       "      <td>1</td>\n",
       "      <td>0</td>\n",
       "      <td>3</td>\n",
       "      <td>Braund, Mr. Owen Harris</td>\n",
       "      <td>male</td>\n",
       "      <td>22.0</td>\n",
       "      <td>1</td>\n",
       "      <td>0</td>\n",
       "      <td>A/5 21171</td>\n",
       "      <td>7.2500</td>\n",
       "      <td>S</td>\n",
       "    </tr>\n",
       "    <tr>\n",
       "      <th>1</th>\n",
       "      <td>2</td>\n",
       "      <td>1</td>\n",
       "      <td>1</td>\n",
       "      <td>Cumings, Mrs. John Bradley (Florence Briggs Th...</td>\n",
       "      <td>female</td>\n",
       "      <td>38.0</td>\n",
       "      <td>1</td>\n",
       "      <td>0</td>\n",
       "      <td>PC 17599</td>\n",
       "      <td>71.2833</td>\n",
       "      <td>C</td>\n",
       "    </tr>\n",
       "    <tr>\n",
       "      <th>2</th>\n",
       "      <td>3</td>\n",
       "      <td>1</td>\n",
       "      <td>3</td>\n",
       "      <td>Heikkinen, Miss. Laina</td>\n",
       "      <td>female</td>\n",
       "      <td>26.0</td>\n",
       "      <td>0</td>\n",
       "      <td>0</td>\n",
       "      <td>STON/O2. 3101282</td>\n",
       "      <td>7.9250</td>\n",
       "      <td>S</td>\n",
       "    </tr>\n",
       "    <tr>\n",
       "      <th>3</th>\n",
       "      <td>4</td>\n",
       "      <td>1</td>\n",
       "      <td>1</td>\n",
       "      <td>Futrelle, Mrs. Jacques Heath (Lily May Peel)</td>\n",
       "      <td>female</td>\n",
       "      <td>35.0</td>\n",
       "      <td>1</td>\n",
       "      <td>0</td>\n",
       "      <td>113803</td>\n",
       "      <td>53.1000</td>\n",
       "      <td>S</td>\n",
       "    </tr>\n",
       "    <tr>\n",
       "      <th>4</th>\n",
       "      <td>5</td>\n",
       "      <td>0</td>\n",
       "      <td>3</td>\n",
       "      <td>Allen, Mr. William Henry</td>\n",
       "      <td>male</td>\n",
       "      <td>35.0</td>\n",
       "      <td>0</td>\n",
       "      <td>0</td>\n",
       "      <td>373450</td>\n",
       "      <td>8.0500</td>\n",
       "      <td>S</td>\n",
       "    </tr>\n",
       "  </tbody>\n",
       "</table>\n",
       "</div>"
      ],
      "text/plain": [
       "   PassengerId  Survived  Pclass  \\\n",
       "0            1         0       3   \n",
       "1            2         1       1   \n",
       "2            3         1       3   \n",
       "3            4         1       1   \n",
       "4            5         0       3   \n",
       "\n",
       "                                                Name     Sex   Age  SibSp  \\\n",
       "0                            Braund, Mr. Owen Harris    male  22.0      1   \n",
       "1  Cumings, Mrs. John Bradley (Florence Briggs Th...  female  38.0      1   \n",
       "2                             Heikkinen, Miss. Laina  female  26.0      0   \n",
       "3       Futrelle, Mrs. Jacques Heath (Lily May Peel)  female  35.0      1   \n",
       "4                           Allen, Mr. William Henry    male  35.0      0   \n",
       "\n",
       "   Parch            Ticket     Fare Embarked  \n",
       "0      0         A/5 21171   7.2500        S  \n",
       "1      0          PC 17599  71.2833        C  \n",
       "2      0  STON/O2. 3101282   7.9250        S  \n",
       "3      0            113803  53.1000        S  \n",
       "4      0            373450   8.0500        S  "
      ]
     },
     "execution_count": 6,
     "metadata": {},
     "output_type": "execute_result"
    }
   ],
   "source": [
    "Titanic=Titanic_dropna\n",
    "Titanic.head()"
   ]
  },
  {
   "cell_type": "markdown",
   "metadata": {},
   "source": [
    "**Q：How many people survived at this catastrophe? What is the distribution of the survivor?**"
   ]
  },
  {
   "cell_type": "code",
   "execution_count": 7,
   "metadata": {
    "collapsed": false
   },
   "outputs": [
    {
     "name": "stdout",
     "output_type": "stream",
     "text": [
      "There are:712 in the Titanic.And 424 of them died,288 survived\n"
     ]
    }
   ],
   "source": [
    "print \"There are:\"+bytes(len(Titanic))+\" in the Titanic.And \"+bytes(len(Titanic[Titanic.Survived==0]))+\" of them died,\"+bytes(len(Titanic[Titanic.Survived==1]))+\" survived\""
   ]
  },
  {
   "cell_type": "markdown",
   "metadata": {},
   "source": [
    "**Q:At Titanic, what is the spending situation among the people?**"
   ]
  },
  {
   "cell_type": "code",
   "execution_count": 8,
   "metadata": {
    "collapsed": false
   },
   "outputs": [
    {
     "data": {
      "text/html": [
       "<div>\n",
       "<table border=\"1\" class=\"dataframe\">\n",
       "  <thead>\n",
       "    <tr style=\"text-align: right;\">\n",
       "      <th></th>\n",
       "      <th>PassengerId</th>\n",
       "      <th>Survived</th>\n",
       "      <th>Pclass</th>\n",
       "      <th>Age</th>\n",
       "      <th>SibSp</th>\n",
       "      <th>Parch</th>\n",
       "      <th>Fare</th>\n",
       "    </tr>\n",
       "  </thead>\n",
       "  <tbody>\n",
       "    <tr>\n",
       "      <th>count</th>\n",
       "      <td>705.000000</td>\n",
       "      <td>705.000000</td>\n",
       "      <td>705.000000</td>\n",
       "      <td>705.000000</td>\n",
       "      <td>705.000000</td>\n",
       "      <td>705.000000</td>\n",
       "      <td>705.000000</td>\n",
       "    </tr>\n",
       "    <tr>\n",
       "      <th>mean</th>\n",
       "      <td>448.438298</td>\n",
       "      <td>0.407092</td>\n",
       "      <td>2.241135</td>\n",
       "      <td>29.587475</td>\n",
       "      <td>0.519149</td>\n",
       "      <td>0.436879</td>\n",
       "      <td>34.910472</td>\n",
       "    </tr>\n",
       "    <tr>\n",
       "      <th>std</th>\n",
       "      <td>258.734924</td>\n",
       "      <td>0.491641</td>\n",
       "      <td>0.835137</td>\n",
       "      <td>14.524925</td>\n",
       "      <td>0.933888</td>\n",
       "      <td>0.857322</td>\n",
       "      <td>53.088296</td>\n",
       "    </tr>\n",
       "    <tr>\n",
       "      <th>min</th>\n",
       "      <td>1.000000</td>\n",
       "      <td>0.000000</td>\n",
       "      <td>1.000000</td>\n",
       "      <td>0.420000</td>\n",
       "      <td>0.000000</td>\n",
       "      <td>0.000000</td>\n",
       "      <td>4.012500</td>\n",
       "    </tr>\n",
       "    <tr>\n",
       "      <th>25%</th>\n",
       "      <td>222.000000</td>\n",
       "      <td>0.000000</td>\n",
       "      <td>1.000000</td>\n",
       "      <td>20.000000</td>\n",
       "      <td>0.000000</td>\n",
       "      <td>0.000000</td>\n",
       "      <td>8.050000</td>\n",
       "    </tr>\n",
       "    <tr>\n",
       "      <th>50%</th>\n",
       "      <td>446.000000</td>\n",
       "      <td>0.000000</td>\n",
       "      <td>2.000000</td>\n",
       "      <td>28.000000</td>\n",
       "      <td>0.000000</td>\n",
       "      <td>0.000000</td>\n",
       "      <td>15.850000</td>\n",
       "    </tr>\n",
       "    <tr>\n",
       "      <th>75%</th>\n",
       "      <td>677.000000</td>\n",
       "      <td>1.000000</td>\n",
       "      <td>3.000000</td>\n",
       "      <td>38.000000</td>\n",
       "      <td>1.000000</td>\n",
       "      <td>1.000000</td>\n",
       "      <td>33.500000</td>\n",
       "    </tr>\n",
       "    <tr>\n",
       "      <th>max</th>\n",
       "      <td>891.000000</td>\n",
       "      <td>1.000000</td>\n",
       "      <td>3.000000</td>\n",
       "      <td>80.000000</td>\n",
       "      <td>5.000000</td>\n",
       "      <td>6.000000</td>\n",
       "      <td>512.329200</td>\n",
       "    </tr>\n",
       "  </tbody>\n",
       "</table>\n",
       "</div>"
      ],
      "text/plain": [
       "       PassengerId    Survived      Pclass         Age       SibSp  \\\n",
       "count   705.000000  705.000000  705.000000  705.000000  705.000000   \n",
       "mean    448.438298    0.407092    2.241135   29.587475    0.519149   \n",
       "std     258.734924    0.491641    0.835137   14.524925    0.933888   \n",
       "min       1.000000    0.000000    1.000000    0.420000    0.000000   \n",
       "25%     222.000000    0.000000    1.000000   20.000000    0.000000   \n",
       "50%     446.000000    0.000000    2.000000   28.000000    0.000000   \n",
       "75%     677.000000    1.000000    3.000000   38.000000    1.000000   \n",
       "max     891.000000    1.000000    3.000000   80.000000    5.000000   \n",
       "\n",
       "            Parch        Fare  \n",
       "count  705.000000  705.000000  \n",
       "mean     0.436879   34.910472  \n",
       "std      0.857322   53.088296  \n",
       "min      0.000000    4.012500  \n",
       "25%      0.000000    8.050000  \n",
       "50%      0.000000   15.850000  \n",
       "75%      1.000000   33.500000  \n",
       "max      6.000000  512.329200  "
      ]
     },
     "execution_count": 8,
     "metadata": {},
     "output_type": "execute_result"
    }
   ],
   "source": [
    "Titanic[Titanic.Fare>0].describe()"
   ]
  },
  {
   "cell_type": "markdown",
   "metadata": {},
   "source": [
    "As the data describe has shown. Among 891 data, the highest spending is 512.3292, the lowest is 4.0125.\n",
    "\n",
    "**Q：What is the characteristics of the survivor?**\n",
    "\n",
    "Load survivor data:"
   ]
  },
  {
   "cell_type": "code",
   "execution_count": 9,
   "metadata": {
    "collapsed": false
   },
   "outputs": [],
   "source": [
    "male_survived=Titanic[(Titanic.Survived==1) & (Titanic.Sex=='male')]\n",
    "female_survived=Titanic[(Titanic.Survived==1) & (Titanic.Sex=='female')]"
   ]
  },
  {
   "cell_type": "code",
   "execution_count": 10,
   "metadata": {
    "collapsed": false
   },
   "outputs": [
    {
     "data": {
      "text/html": [
       "<div>\n",
       "<table border=\"1\" class=\"dataframe\">\n",
       "  <thead>\n",
       "    <tr style=\"text-align: right;\">\n",
       "      <th></th>\n",
       "      <th>PassengerId</th>\n",
       "      <th>Survived</th>\n",
       "      <th>Pclass</th>\n",
       "      <th>Age</th>\n",
       "      <th>SibSp</th>\n",
       "      <th>Parch</th>\n",
       "      <th>Fare</th>\n",
       "    </tr>\n",
       "  </thead>\n",
       "  <tbody>\n",
       "    <tr>\n",
       "      <th>count</th>\n",
       "      <td>93.000000</td>\n",
       "      <td>93.0</td>\n",
       "      <td>93.000000</td>\n",
       "      <td>93.000000</td>\n",
       "      <td>93.000000</td>\n",
       "      <td>93.000000</td>\n",
       "      <td>93.000000</td>\n",
       "    </tr>\n",
       "    <tr>\n",
       "      <th>mean</th>\n",
       "      <td>483.978495</td>\n",
       "      <td>1.0</td>\n",
       "      <td>1.978495</td>\n",
       "      <td>27.276022</td>\n",
       "      <td>0.408602</td>\n",
       "      <td>0.397849</td>\n",
       "      <td>43.793865</td>\n",
       "    </tr>\n",
       "    <tr>\n",
       "      <th>std</th>\n",
       "      <td>234.364635</td>\n",
       "      <td>0.0</td>\n",
       "      <td>0.920521</td>\n",
       "      <td>16.504803</td>\n",
       "      <td>0.646673</td>\n",
       "      <td>0.677909</td>\n",
       "      <td>76.649011</td>\n",
       "    </tr>\n",
       "    <tr>\n",
       "      <th>min</th>\n",
       "      <td>22.000000</td>\n",
       "      <td>1.0</td>\n",
       "      <td>1.000000</td>\n",
       "      <td>0.420000</td>\n",
       "      <td>0.000000</td>\n",
       "      <td>0.000000</td>\n",
       "      <td>0.000000</td>\n",
       "    </tr>\n",
       "    <tr>\n",
       "      <th>25%</th>\n",
       "      <td>284.000000</td>\n",
       "      <td>1.0</td>\n",
       "      <td>1.000000</td>\n",
       "      <td>18.000000</td>\n",
       "      <td>0.000000</td>\n",
       "      <td>0.000000</td>\n",
       "      <td>9.500000</td>\n",
       "    </tr>\n",
       "    <tr>\n",
       "      <th>50%</th>\n",
       "      <td>510.000000</td>\n",
       "      <td>1.0</td>\n",
       "      <td>2.000000</td>\n",
       "      <td>28.000000</td>\n",
       "      <td>0.000000</td>\n",
       "      <td>0.000000</td>\n",
       "      <td>26.287500</td>\n",
       "    </tr>\n",
       "    <tr>\n",
       "      <th>75%</th>\n",
       "      <td>674.000000</td>\n",
       "      <td>1.0</td>\n",
       "      <td>3.000000</td>\n",
       "      <td>36.000000</td>\n",
       "      <td>1.000000</td>\n",
       "      <td>1.000000</td>\n",
       "      <td>52.554200</td>\n",
       "    </tr>\n",
       "    <tr>\n",
       "      <th>max</th>\n",
       "      <td>890.000000</td>\n",
       "      <td>1.0</td>\n",
       "      <td>3.000000</td>\n",
       "      <td>80.000000</td>\n",
       "      <td>4.000000</td>\n",
       "      <td>2.000000</td>\n",
       "      <td>512.329200</td>\n",
       "    </tr>\n",
       "  </tbody>\n",
       "</table>\n",
       "</div>"
      ],
      "text/plain": [
       "       PassengerId  Survived     Pclass        Age      SibSp      Parch  \\\n",
       "count    93.000000      93.0  93.000000  93.000000  93.000000  93.000000   \n",
       "mean    483.978495       1.0   1.978495  27.276022   0.408602   0.397849   \n",
       "std     234.364635       0.0   0.920521  16.504803   0.646673   0.677909   \n",
       "min      22.000000       1.0   1.000000   0.420000   0.000000   0.000000   \n",
       "25%     284.000000       1.0   1.000000  18.000000   0.000000   0.000000   \n",
       "50%     510.000000       1.0   2.000000  28.000000   0.000000   0.000000   \n",
       "75%     674.000000       1.0   3.000000  36.000000   1.000000   1.000000   \n",
       "max     890.000000       1.0   3.000000  80.000000   4.000000   2.000000   \n",
       "\n",
       "             Fare  \n",
       "count   93.000000  \n",
       "mean    43.793865  \n",
       "std     76.649011  \n",
       "min      0.000000  \n",
       "25%      9.500000  \n",
       "50%     26.287500  \n",
       "75%     52.554200  \n",
       "max    512.329200  "
      ]
     },
     "execution_count": 10,
     "metadata": {},
     "output_type": "execute_result"
    }
   ],
   "source": [
    "male_survived.describe()"
   ]
  },
  {
   "cell_type": "code",
   "execution_count": 11,
   "metadata": {
    "collapsed": false
   },
   "outputs": [
    {
     "data": {
      "text/html": [
       "<div>\n",
       "<table border=\"1\" class=\"dataframe\">\n",
       "  <thead>\n",
       "    <tr style=\"text-align: right;\">\n",
       "      <th></th>\n",
       "      <th>PassengerId</th>\n",
       "      <th>Survived</th>\n",
       "      <th>Pclass</th>\n",
       "      <th>Age</th>\n",
       "      <th>SibSp</th>\n",
       "      <th>Parch</th>\n",
       "      <th>Fare</th>\n",
       "    </tr>\n",
       "  </thead>\n",
       "  <tbody>\n",
       "    <tr>\n",
       "      <th>count</th>\n",
       "      <td>195.000000</td>\n",
       "      <td>195.0</td>\n",
       "      <td>195.000000</td>\n",
       "      <td>195.000000</td>\n",
       "      <td>195.000000</td>\n",
       "      <td>195.000000</td>\n",
       "      <td>195.000000</td>\n",
       "    </tr>\n",
       "    <tr>\n",
       "      <th>mean</th>\n",
       "      <td>445.389744</td>\n",
       "      <td>1.0</td>\n",
       "      <td>1.830769</td>\n",
       "      <td>28.630769</td>\n",
       "      <td>0.538462</td>\n",
       "      <td>0.594872</td>\n",
       "      <td>55.393334</td>\n",
       "    </tr>\n",
       "    <tr>\n",
       "      <th>std</th>\n",
       "      <td>256.288561</td>\n",
       "      <td>0.0</td>\n",
       "      <td>0.791108</td>\n",
       "      <td>14.030672</td>\n",
       "      <td>0.768120</td>\n",
       "      <td>0.858538</td>\n",
       "      <td>67.508971</td>\n",
       "    </tr>\n",
       "    <tr>\n",
       "      <th>min</th>\n",
       "      <td>2.000000</td>\n",
       "      <td>1.0</td>\n",
       "      <td>1.000000</td>\n",
       "      <td>0.750000</td>\n",
       "      <td>0.000000</td>\n",
       "      <td>0.000000</td>\n",
       "      <td>7.225000</td>\n",
       "    </tr>\n",
       "    <tr>\n",
       "      <th>25%</th>\n",
       "      <td>257.000000</td>\n",
       "      <td>1.0</td>\n",
       "      <td>1.000000</td>\n",
       "      <td>19.000000</td>\n",
       "      <td>0.000000</td>\n",
       "      <td>0.000000</td>\n",
       "      <td>13.000000</td>\n",
       "    </tr>\n",
       "    <tr>\n",
       "      <th>50%</th>\n",
       "      <td>436.000000</td>\n",
       "      <td>1.0</td>\n",
       "      <td>2.000000</td>\n",
       "      <td>28.000000</td>\n",
       "      <td>0.000000</td>\n",
       "      <td>0.000000</td>\n",
       "      <td>26.250000</td>\n",
       "    </tr>\n",
       "    <tr>\n",
       "      <th>75%</th>\n",
       "      <td>651.000000</td>\n",
       "      <td>1.0</td>\n",
       "      <td>2.000000</td>\n",
       "      <td>36.000000</td>\n",
       "      <td>1.000000</td>\n",
       "      <td>1.000000</td>\n",
       "      <td>77.343750</td>\n",
       "    </tr>\n",
       "    <tr>\n",
       "      <th>max</th>\n",
       "      <td>888.000000</td>\n",
       "      <td>1.0</td>\n",
       "      <td>3.000000</td>\n",
       "      <td>63.000000</td>\n",
       "      <td>4.000000</td>\n",
       "      <td>5.000000</td>\n",
       "      <td>512.329200</td>\n",
       "    </tr>\n",
       "  </tbody>\n",
       "</table>\n",
       "</div>"
      ],
      "text/plain": [
       "       PassengerId  Survived      Pclass         Age       SibSp       Parch  \\\n",
       "count   195.000000     195.0  195.000000  195.000000  195.000000  195.000000   \n",
       "mean    445.389744       1.0    1.830769   28.630769    0.538462    0.594872   \n",
       "std     256.288561       0.0    0.791108   14.030672    0.768120    0.858538   \n",
       "min       2.000000       1.0    1.000000    0.750000    0.000000    0.000000   \n",
       "25%     257.000000       1.0    1.000000   19.000000    0.000000    0.000000   \n",
       "50%     436.000000       1.0    2.000000   28.000000    0.000000    0.000000   \n",
       "75%     651.000000       1.0    2.000000   36.000000    1.000000    1.000000   \n",
       "max     888.000000       1.0    3.000000   63.000000    4.000000    5.000000   \n",
       "\n",
       "             Fare  \n",
       "count  195.000000  \n",
       "mean    55.393334  \n",
       "std     67.508971  \n",
       "min      7.225000  \n",
       "25%     13.000000  \n",
       "50%     26.250000  \n",
       "75%     77.343750  \n",
       "max    512.329200  "
      ]
     },
     "execution_count": 11,
     "metadata": {},
     "output_type": "execute_result"
    }
   ],
   "source": [
    "female_survived.describe()"
   ]
  },
  {
   "cell_type": "code",
   "execution_count": 12,
   "metadata": {
    "collapsed": false
   },
   "outputs": [
    {
     "data": {
      "text/html": [
       "<div>\n",
       "<table border=\"1\" class=\"dataframe\">\n",
       "  <thead>\n",
       "    <tr style=\"text-align: right;\">\n",
       "      <th></th>\n",
       "      <th></th>\n",
       "      <th>Fare</th>\n",
       "    </tr>\n",
       "    <tr>\n",
       "      <th>Survived</th>\n",
       "      <th></th>\n",
       "      <th></th>\n",
       "    </tr>\n",
       "  </thead>\n",
       "  <tbody>\n",
       "    <tr>\n",
       "      <th rowspan=\"2\" valign=\"top\">0</th>\n",
       "      <th>mean</th>\n",
       "      <td>22.965456</td>\n",
       "    </tr>\n",
       "    <tr>\n",
       "      <th>std</th>\n",
       "      <td>31.448825</td>\n",
       "    </tr>\n",
       "    <tr>\n",
       "      <th rowspan=\"2\" valign=\"top\">1</th>\n",
       "      <th>mean</th>\n",
       "      <td>51.647672</td>\n",
       "    </tr>\n",
       "    <tr>\n",
       "      <th>std</th>\n",
       "      <td>70.664499</td>\n",
       "    </tr>\n",
       "  </tbody>\n",
       "</table>\n",
       "</div>"
      ],
      "text/plain": [
       "                    Fare\n",
       "Survived                \n",
       "0        mean  22.965456\n",
       "         std   31.448825\n",
       "1        mean  51.647672\n",
       "         std   70.664499"
      ]
     },
     "execution_count": 12,
     "metadata": {},
     "output_type": "execute_result"
    },
    {
     "data": {
      "image/png": "[encoded data removed]",
      "text/plain": [
       "<matplotlib.figure.Figure at 0xc1b9128>"
      ]
     },
     "metadata": {},
     "output_type": "display_data"
    }
   ],
   "source": [
    "Titanic.boxplot(column=['Fare'],by=['Survived']).set_yscale('log')\n",
    "pd.DataFrame(Titanic.groupby(['Survived'])['Fare'].describe().loc[:,['mean','std']])"
   ]
  },
  {
   "cell_type": "markdown",
   "metadata": {},
   "source": [
    "After exclude the unknown infromation, the mean of male survivor is lower than female survivor.\n",
    "\n",
    "And we found that the mean of fare that survivor have spent is higher than the dead.\n",
    "\n",
    "So we could draw a conclusion that **survivor have spent more money on board.**\n",
    "\n",
    "The oldest survivor is 80 years old. The oldest female survivor is 63 years old.\n",
    "\n",
    "Now we discover whether the sex really affect survived rate."
   ]
  },
  {
   "cell_type": "code",
   "execution_count": 13,
   "metadata": {
    "collapsed": false
   },
   "outputs": [
    {
     "data": {
      "image/png": "[encoded data removed]",
      "text/plain": [
       "<matplotlib.figure.Figure at 0xc3267f0>"
      ]
     },
     "metadata": {},
     "output_type": "display_data"
    }
   ],
   "source": [
    "from pylab import *\n",
    "figure(1,figsize=(6,6))\n",
    "ax=axes([0.1,0.1,0.8,0.8])\n",
    "\n",
    "labels='male','female'\n",
    "\n",
    "x=[len(Titanic[Titanic.Sex=='male']),len(Titanic[Titanic.Sex=='female'])]\n",
    "\n",
    "explode=(0.1,0.1)\n",
    "\n",
    "pie(x,explode=explode,labels=labels,autopct='%1.1f%%',startangle=67)\n",
    "\n",
    "show()"
   ]
  },
  {
   "cell_type": "markdown",
   "metadata": {},
   "source": [
    "As the Pie shows that,the number of male are nealy equals to the female."
   ]
  },
  {
   "cell_type": "code",
   "execution_count": 14,
   "metadata": {
    "collapsed": false
   },
   "outputs": [
    {
     "data": {
      "image/png": "[encoded data removed]",
      "text/plain": [
       "<matplotlib.figure.Figure at 0xc723ef0>"
      ]
     },
     "metadata": {},
     "output_type": "display_data"
    }
   ],
   "source": [
    "figure(2,figsize=(6,6))\n",
    "ax=axes([0.1,0.1,0.8,0.8])\n",
    "\n",
    "labels='male','female'\n",
    "\n",
    "x=[len(male_survived),len(female_survived)]\n",
    "\n",
    "explode=(0.1,0.1)\n",
    "\n",
    "pie(x,explode=explode,labels=labels,autopct='%1.1f%%',startangle=67)\n",
    "\n",
    "show()"
   ]
  },
  {
   "cell_type": "markdown",
   "metadata": {},
   "source": [
    "Though we found that the number of men abroad are more than wowen. We found that the survived rate of female are as twice as male.\n",
    "\n",
    "However, we as we know that, man have more strength than women. \n",
    "\n",
    "So we could only explain the results that **Men gave up their choice to live to women, so that women could lived!**"
   ]
  },
  {
   "cell_type": "code",
   "execution_count": 15,
   "metadata": {
    "collapsed": false
   },
   "outputs": [],
   "source": [
    "# Pie_Three arguments.\n",
    "def draw_pie_3(label_1,label_2,label_3,data_1,data_2,data_3):\n",
    "    plt.figure(figsize=(5,8))\n",
    "    labels = [label_1,label_2,label_3]\n",
    "    sizes=[data_1,data_2,data_3]\n",
    "    colors = ['lightskyblue','yellowgreen','red']\n",
    "    explode = (0.05,0,0)\n",
    "    patches,l_text,p_text = plt.pie(sizes,explode=explode,labels=labels,colors=colors,\n",
    "                                labeldistance = 1.1,autopct = '%3.1f%%',shadow = True,\n",
    "                                startangle = 90,pctdistance = 0.6)\n",
    "    for t in l_text:\n",
    "        t.set_size=(30)\n",
    "    for t in p_text:\n",
    "        t.set_size=(20)\n",
    "    plt.axis('equal')\n",
    "    plt.legend()\n",
    "    plt.show()"
   ]
  },
  {
   "cell_type": "markdown",
   "metadata": {},
   "source": [
    "## Exploration"
   ]
  },
  {
   "cell_type": "markdown",
   "metadata": {},
   "source": [
    "**Q1.Whether the rich people have privilege to live comparing to the poor during this catastrophe?**\n",
    "\n",
    "### Set Assumption:\n",
    "\n",
    "$\\bar x_{die}$:The mean fare of the dead people.\n",
    "\n",
    "$\\bar x_{survived}$:The mean fare of the survivor.\n",
    "\n",
    "$H_0$:People who survived have more money than who died.\n",
    "\n",
    "$$Which \\space means:\\bar x_{survivor}\\geq\\bar x_{died}$$\n",
    "\n",
    "$H_1$:People who survived have less money than who died.\n",
    "\n",
    "$$Which \\space means:\\bar x_{survivor}\\leq\\bar x_{died}$$\n",
    "\n",
    "Set definition: Rich people have more money to spend in the ship than the poor. So the fare cost is to be concerned as whether he or she is wealthy or not."
   ]
  },
  {
   "cell_type": "code",
   "execution_count": 16,
   "metadata": {
    "collapsed": false
   },
   "outputs": [
    {
     "data": {
      "text/plain": [
       "count    288.000000\n",
       "mean      51.647672\n",
       "std       70.664499\n",
       "min        0.000000\n",
       "25%       13.000000\n",
       "50%       26.250000\n",
       "75%       65.000000\n",
       "max      512.329200\n",
       "Name: Fare, dtype: float64"
      ]
     },
     "execution_count": 16,
     "metadata": {},
     "output_type": "execute_result"
    }
   ],
   "source": [
    "Titanic[Titanic.Survived==1].dropna()['Fare'].describe()"
   ]
  },
  {
   "cell_type": "code",
   "execution_count": 17,
   "metadata": {
    "collapsed": false
   },
   "outputs": [
    {
     "data": {
      "text/plain": [
       "count    424.000000\n",
       "mean      22.965456\n",
       "std       31.448825\n",
       "min        0.000000\n",
       "25%        7.895800\n",
       "50%       11.887500\n",
       "75%       26.550000\n",
       "max      263.000000\n",
       "Name: Fare, dtype: float64"
      ]
     },
     "execution_count": 17,
     "metadata": {},
     "output_type": "execute_result"
    }
   ],
   "source": [
    "Titanic[Titanic.Survived==0].dropna()['Fare'].describe()"
   ]
  },
  {
   "cell_type": "markdown",
   "metadata": {},
   "source": [
    "$$\\bar x_{die}=22.965456$$\n",
    "\n",
    "$$\\bar x_{survivor}=51.647672$$\n",
    "\n",
    "So we got: $\\bar x_{die}<\\bar x_{survivor}$\n",
    "\n",
    "More poor people died in this catastrophe.\n",
    "\n",
    "Although we found that $\\bar x_{die}<\\bar x_{survivor}$. After our first exploration, we could remain curiosity of the result that why people who are survived have spent more money than people who died in this catastrophe, since we didn't have the map of room on the Titanic so the room location could never be a evidence to prove our assumption that the privilege comes to the spatial arrangement of the room so people who sleep in better class could escape faster.\n",
    "\n",
    "But **Does where the social class affect the survived rate?**"
   ]
  },
  {
   "cell_type": "markdown",
   "metadata": {},
   "source": [
    "**Q2.Whether the Pclass really affect the survived rate?**"
   ]
  },
  {
   "cell_type": "code",
   "execution_count": 18,
   "metadata": {
    "collapsed": false
   },
   "outputs": [
    {
     "data": {
      "image/png": "[encoded data removed]",
      "text/plain": [
       "<matplotlib.figure.Figure at 0xc48a9e8>"
      ]
     },
     "metadata": {},
     "output_type": "display_data"
    }
   ],
   "source": [
    "draw_pie_3('Class 1','Class 2','Class 3',len(Titanic[Titanic.Pclass==1]),len(Titanic[Titanic.Pclass==2]),len(Titanic[Titanic.Pclass==3]))"
   ]
  },
  {
   "cell_type": "markdown",
   "metadata": {},
   "source": [
    "The pie above have list the distribution of each class on the Titanic.\n",
    "\n",
    "Now, we give the the distribution of the survivor Pclass distribution.\n",
    "\n",
    "Define:\n",
    "\n",
    "* $P_{Class1\\space survivor}$:The survivor rate of Pclass1\n",
    "* $P_{Class2\\space survivor}$The survivor rate of Pclass2\n",
    "* $P_{Class2\\space survivor}$The survivor rate of Pclass3\n",
    "\n",
    "$H_0:P_{Class1\\space survivor}<P_{Class2\\space survivor}<P_{Class2\\space survivor}$\n",
    "\n",
    "We could say that PClass do affect survived rate and the higher class people be, the higher the survived rate is.\n",
    "\n",
    "$H_1:P_{Class1\\space survivor}\\geq P_{Class2\\space survivor}\\geq P_{Class2\\space survivor}$\n",
    "\n",
    "We could say that PClass do affect survived rate and the lower class people be, the lower the survived rate is."
   ]
  },
  {
   "cell_type": "code",
   "execution_count": 19,
   "metadata": {
    "collapsed": false
   },
   "outputs": [
    {
     "name": "stdout",
     "output_type": "stream",
     "text": [
      "120\n",
      "184\n"
     ]
    }
   ],
   "source": [
    "Pclass1_Survived=(len(Titanic[(Titanic.Pclass==1)&(Titanic.Survived==1)]))\n",
    "Pclass1_all=len(Titanic[Titanic.Pclass==1])\n",
    "\n",
    "print Pclass1_Survived\n",
    "print Pclass1_all"
   ]
  },
  {
   "cell_type": "markdown",
   "metadata": {},
   "source": [
    "So:$P_{Class1\\space survivor}=0.652$"
   ]
  },
  {
   "cell_type": "code",
   "execution_count": 20,
   "metadata": {
    "collapsed": false
   },
   "outputs": [
    {
     "name": "stdout",
     "output_type": "stream",
     "text": [
      "83\n",
      "173\n"
     ]
    }
   ],
   "source": [
    "Pclass2_Survived=(len(Titanic[(Titanic.Pclass==2)&(Titanic.Survived==1)]))\n",
    "Pclass2_all=len(Titanic[Titanic.Pclass==2])\n",
    "\n",
    "print Pclass2_Survived\n",
    "print Pclass2_all"
   ]
  },
  {
   "cell_type": "markdown",
   "metadata": {},
   "source": [
    "So:$P_{Class2\\space survivor}=0.479768$"
   ]
  },
  {
   "cell_type": "code",
   "execution_count": 21,
   "metadata": {
    "collapsed": false
   },
   "outputs": [
    {
     "name": "stdout",
     "output_type": "stream",
     "text": [
      "85\n",
      "355\n"
     ]
    }
   ],
   "source": [
    "Pclass3_Survived=(len(Titanic[(Titanic.Pclass==3)&(Titanic.Survived==1)]))\n",
    "Pclass3_all=len(Titanic[Titanic.Pclass==3])\n",
    "\n",
    "print Pclass3_Survived\n",
    "print Pclass3_all"
   ]
  },
  {
   "cell_type": "markdown",
   "metadata": {},
   "source": [
    "So:$P_{Class3\\space survivor}=0.2394$"
   ]
  },
  {
   "cell_type": "markdown",
   "metadata": {},
   "source": [
    "We could get the information that the class 1 is at the dominated position.\n",
    "\n",
    "Since we got:$H_1:P_{Class1\\space survivor}> P_{Class2\\space survivor}>P_{Class2\\space survivor}$\n",
    "\n",
    "We could say that PClass do affect survived rate and the lower class people be, the lower the survived rate is.\n",
    "\n",
    "It's obviously that Class 3 has the most valuable resources than others. **I assume that people in PClass have a strong humanitarianism spirit which means they have gave up their chance to survived, so more teenagers and women who regarded as the vulnerable groups could survived.** It's really a good thing.\n",
    "\n",
    "So we assume that adults gave the chance to live to the children. Does it really true?"
   ]
  },
  {
   "cell_type": "code",
   "execution_count": 22,
   "metadata": {
    "collapsed": false
   },
   "outputs": [
    {
     "data": {
      "text/html": [
       "<div>\n",
       "<table border=\"1\" class=\"dataframe\">\n",
       "  <thead>\n",
       "    <tr style=\"text-align: right;\">\n",
       "      <th></th>\n",
       "      <th>PassengerId</th>\n",
       "      <th>Survived</th>\n",
       "      <th>Pclass</th>\n",
       "      <th>Age</th>\n",
       "      <th>SibSp</th>\n",
       "      <th>Parch</th>\n",
       "      <th>Fare</th>\n",
       "    </tr>\n",
       "  </thead>\n",
       "  <tbody>\n",
       "    <tr>\n",
       "      <th>count</th>\n",
       "      <td>288.000000</td>\n",
       "      <td>288.0</td>\n",
       "      <td>288.000000</td>\n",
       "      <td>288.000000</td>\n",
       "      <td>288.000000</td>\n",
       "      <td>288.000000</td>\n",
       "      <td>288.000000</td>\n",
       "    </tr>\n",
       "    <tr>\n",
       "      <th>mean</th>\n",
       "      <td>457.850694</td>\n",
       "      <td>1.0</td>\n",
       "      <td>1.878472</td>\n",
       "      <td>28.193299</td>\n",
       "      <td>0.496528</td>\n",
       "      <td>0.531250</td>\n",
       "      <td>51.647672</td>\n",
       "    </tr>\n",
       "    <tr>\n",
       "      <th>std</th>\n",
       "      <td>249.666625</td>\n",
       "      <td>0.0</td>\n",
       "      <td>0.836340</td>\n",
       "      <td>14.859146</td>\n",
       "      <td>0.732512</td>\n",
       "      <td>0.808747</td>\n",
       "      <td>70.664499</td>\n",
       "    </tr>\n",
       "    <tr>\n",
       "      <th>min</th>\n",
       "      <td>2.000000</td>\n",
       "      <td>1.0</td>\n",
       "      <td>1.000000</td>\n",
       "      <td>0.420000</td>\n",
       "      <td>0.000000</td>\n",
       "      <td>0.000000</td>\n",
       "      <td>0.000000</td>\n",
       "    </tr>\n",
       "    <tr>\n",
       "      <th>25%</th>\n",
       "      <td>261.500000</td>\n",
       "      <td>1.0</td>\n",
       "      <td>1.000000</td>\n",
       "      <td>19.000000</td>\n",
       "      <td>0.000000</td>\n",
       "      <td>0.000000</td>\n",
       "      <td>13.000000</td>\n",
       "    </tr>\n",
       "    <tr>\n",
       "      <th>50%</th>\n",
       "      <td>452.000000</td>\n",
       "      <td>1.0</td>\n",
       "      <td>2.000000</td>\n",
       "      <td>28.000000</td>\n",
       "      <td>0.000000</td>\n",
       "      <td>0.000000</td>\n",
       "      <td>26.250000</td>\n",
       "    </tr>\n",
       "    <tr>\n",
       "      <th>75%</th>\n",
       "      <td>666.500000</td>\n",
       "      <td>1.0</td>\n",
       "      <td>3.000000</td>\n",
       "      <td>36.000000</td>\n",
       "      <td>1.000000</td>\n",
       "      <td>1.000000</td>\n",
       "      <td>65.000000</td>\n",
       "    </tr>\n",
       "    <tr>\n",
       "      <th>max</th>\n",
       "      <td>890.000000</td>\n",
       "      <td>1.0</td>\n",
       "      <td>3.000000</td>\n",
       "      <td>80.000000</td>\n",
       "      <td>4.000000</td>\n",
       "      <td>5.000000</td>\n",
       "      <td>512.329200</td>\n",
       "    </tr>\n",
       "  </tbody>\n",
       "</table>\n",
       "</div>"
      ],
      "text/plain": [
       "       PassengerId  Survived      Pclass         Age       SibSp       Parch  \\\n",
       "count   288.000000     288.0  288.000000  288.000000  288.000000  288.000000   \n",
       "mean    457.850694       1.0    1.878472   28.193299    0.496528    0.531250   \n",
       "std     249.666625       0.0    0.836340   14.859146    0.732512    0.808747   \n",
       "min       2.000000       1.0    1.000000    0.420000    0.000000    0.000000   \n",
       "25%     261.500000       1.0    1.000000   19.000000    0.000000    0.000000   \n",
       "50%     452.000000       1.0    2.000000   28.000000    0.000000    0.000000   \n",
       "75%     666.500000       1.0    3.000000   36.000000    1.000000    1.000000   \n",
       "max     890.000000       1.0    3.000000   80.000000    4.000000    5.000000   \n",
       "\n",
       "             Fare  \n",
       "count  288.000000  \n",
       "mean    51.647672  \n",
       "std     70.664499  \n",
       "min      0.000000  \n",
       "25%     13.000000  \n",
       "50%     26.250000  \n",
       "75%     65.000000  \n",
       "max    512.329200  "
      ]
     },
     "execution_count": 22,
     "metadata": {},
     "output_type": "execute_result"
    }
   ],
   "source": [
    "Titanic[Titanic.Survived==1].describe()"
   ]
  },
  {
   "cell_type": "code",
   "execution_count": 23,
   "metadata": {
    "collapsed": false
   },
   "outputs": [
    {
     "data": {
      "text/html": [
       "<div>\n",
       "<table border=\"1\" class=\"dataframe\">\n",
       "  <thead>\n",
       "    <tr style=\"text-align: right;\">\n",
       "      <th></th>\n",
       "      <th>PassengerId</th>\n",
       "      <th>Survived</th>\n",
       "      <th>Pclass</th>\n",
       "      <th>Age</th>\n",
       "      <th>SibSp</th>\n",
       "      <th>Parch</th>\n",
       "      <th>Fare</th>\n",
       "    </tr>\n",
       "  </thead>\n",
       "  <tbody>\n",
       "    <tr>\n",
       "      <th>count</th>\n",
       "      <td>424.000000</td>\n",
       "      <td>424.0</td>\n",
       "      <td>424.000000</td>\n",
       "      <td>424.000000</td>\n",
       "      <td>424.000000</td>\n",
       "      <td>424.000000</td>\n",
       "      <td>424.000000</td>\n",
       "    </tr>\n",
       "    <tr>\n",
       "      <th>mean</th>\n",
       "      <td>442.299528</td>\n",
       "      <td>0.0</td>\n",
       "      <td>2.485849</td>\n",
       "      <td>30.626179</td>\n",
       "      <td>0.525943</td>\n",
       "      <td>0.365566</td>\n",
       "      <td>22.965456</td>\n",
       "    </tr>\n",
       "    <tr>\n",
       "      <th>std</th>\n",
       "      <td>264.739548</td>\n",
       "      <td>0.0</td>\n",
       "      <td>0.743633</td>\n",
       "      <td>14.172110</td>\n",
       "      <td>1.044760</td>\n",
       "      <td>0.878341</td>\n",
       "      <td>31.448825</td>\n",
       "    </tr>\n",
       "    <tr>\n",
       "      <th>min</th>\n",
       "      <td>1.000000</td>\n",
       "      <td>0.0</td>\n",
       "      <td>1.000000</td>\n",
       "      <td>1.000000</td>\n",
       "      <td>0.000000</td>\n",
       "      <td>0.000000</td>\n",
       "      <td>0.000000</td>\n",
       "    </tr>\n",
       "    <tr>\n",
       "      <th>25%</th>\n",
       "      <td>200.750000</td>\n",
       "      <td>0.0</td>\n",
       "      <td>2.000000</td>\n",
       "      <td>21.000000</td>\n",
       "      <td>0.000000</td>\n",
       "      <td>0.000000</td>\n",
       "      <td>7.895800</td>\n",
       "    </tr>\n",
       "    <tr>\n",
       "      <th>50%</th>\n",
       "      <td>436.000000</td>\n",
       "      <td>0.0</td>\n",
       "      <td>3.000000</td>\n",
       "      <td>28.000000</td>\n",
       "      <td>0.000000</td>\n",
       "      <td>0.000000</td>\n",
       "      <td>11.887500</td>\n",
       "    </tr>\n",
       "    <tr>\n",
       "      <th>75%</th>\n",
       "      <td>683.250000</td>\n",
       "      <td>0.0</td>\n",
       "      <td>3.000000</td>\n",
       "      <td>39.000000</td>\n",
       "      <td>1.000000</td>\n",
       "      <td>0.000000</td>\n",
       "      <td>26.550000</td>\n",
       "    </tr>\n",
       "    <tr>\n",
       "      <th>max</th>\n",
       "      <td>891.000000</td>\n",
       "      <td>0.0</td>\n",
       "      <td>3.000000</td>\n",
       "      <td>74.000000</td>\n",
       "      <td>5.000000</td>\n",
       "      <td>6.000000</td>\n",
       "      <td>263.000000</td>\n",
       "    </tr>\n",
       "  </tbody>\n",
       "</table>\n",
       "</div>"
      ],
      "text/plain": [
       "       PassengerId  Survived      Pclass         Age       SibSp       Parch  \\\n",
       "count   424.000000     424.0  424.000000  424.000000  424.000000  424.000000   \n",
       "mean    442.299528       0.0    2.485849   30.626179    0.525943    0.365566   \n",
       "std     264.739548       0.0    0.743633   14.172110    1.044760    0.878341   \n",
       "min       1.000000       0.0    1.000000    1.000000    0.000000    0.000000   \n",
       "25%     200.750000       0.0    2.000000   21.000000    0.000000    0.000000   \n",
       "50%     436.000000       0.0    3.000000   28.000000    0.000000    0.000000   \n",
       "75%     683.250000       0.0    3.000000   39.000000    1.000000    0.000000   \n",
       "max     891.000000       0.0    3.000000   74.000000    5.000000    6.000000   \n",
       "\n",
       "             Fare  \n",
       "count  424.000000  \n",
       "mean    22.965456  \n",
       "std     31.448825  \n",
       "min      0.000000  \n",
       "25%      7.895800  \n",
       "50%     11.887500  \n",
       "75%     26.550000  \n",
       "max    263.000000  "
      ]
     },
     "execution_count": 23,
     "metadata": {},
     "output_type": "execute_result"
    }
   ],
   "source": [
    "Titanic[Titanic.Survived==0].describe()"
   ]
  },
  {
   "cell_type": "code",
   "execution_count": 24,
   "metadata": {
    "collapsed": false
   },
   "outputs": [
    {
     "data": {
      "image/png": "[encoded data removed]",
      "text/plain": [
       "<matplotlib.figure.Figure at 0xc146f28>"
      ]
     },
     "metadata": {},
     "output_type": "display_data"
    }
   ],
   "source": [
    "plt.subplot(121)\n",
    "ax=plt.gca()\n",
    "\n",
    "ax.hist(Titanic[Titanic.Survived==1]['Age'],bins=35,color='b')\n",
    "\n",
    "ax.set_xlabel('Age')\n",
    "ax.set_ylabel('Frequency')\n",
    "\n",
    "ax.set_title('Survivor')\n",
    "\n",
    "plt.subplot(122)\n",
    "ax=plt.gca()\n",
    "\n",
    "ax.hist(Titanic[Titanic.Survived==0]['Age'],bins=35,color='r')\n",
    "\n",
    "ax.set_xlabel('Age')\n",
    "ax.set_ylabel('Frequency')\n",
    "\n",
    "ax.set_title('Dead')\n",
    "plt.show()"
   ]
  },
  {
   "cell_type": "markdown",
   "metadata": {},
   "source": [
    "First, as we have discover that the mean of survivor(28.193299) which is lower than the dead(30.626179)\n",
    "\n",
    "And as the bar chart have shown that we could figure out that there are more children survived."
   ]
  },
  {
   "cell_type": "markdown",
   "metadata": {},
   "source": [
    "We could prove that, **people really choose to give up their chance to live and let children to live instead.**"
   ]
  },
  {
   "cell_type": "markdown",
   "metadata": {},
   "source": [
    "# Conclusion "
   ]
  },
  {
   "cell_type": "markdown",
   "metadata": {},
   "source": [
    "## What we found? \n",
    "\n",
    "1. The high Class choose to face up to death rather than watch people died only because they have few resources. The social class has no relationship between survived rate.\n",
    "* Survivor have spent more money on board.\n",
    "* Man choose to died to let women live.\n",
    "* People choose to people choose to give up their chance to live and let children to live instead.\n",
    "\n",
    "## The Limitation\n",
    "\n",
    "1. In the dataset,we have 891 data.After we drop the na,we have 183 data.Which means that we have drop 708 data. Because we have drop too many na, so it may be affect our result and strongly decrease our sample size. All our conclusions are made upon the 183 data that is reliable.\n",
    "* We could explain why survivor have spent more money than the victims.\n",
    "* All of our explanation were based on basic priori assumption of our morality and humanity, we didn't consider something more than morality and humanity such as economic and ethics that is more harder to comprehend.\n",
    "* We didn't consider the how the number of siblings/spouses aboard and the number of parents/children aboard affect our solution."
   ]
  },
  {
   "cell_type": "markdown",
   "metadata": {},
   "source": [
    "\n",
    "**Reference**\n",
    "\n",
    "1. SciPy Reference Guide-Release 0.18.1,by SciPy community\n",
    "2. [Data Recourse](https://www.kaggle.com/c/titanic/data)"
   ]
  }
 ],
 "metadata": {
  "anaconda-cloud": {},
  "hide_input": false,
  "kernelspec": {
   "display_name": "Python [conda root]",
   "language": "python",
   "name": "conda-root-py"
  },
  "language_info": {
   "codemirror_mode": {
    "name": "ipython",
    "version": 3
   },
   "file_extension": ".py",
   "mimetype": "text/x-python",
   "name": "python",
   "nbconvert_exporter": "python",
   "pygments_lexer": "ipython3",
   "version": "3.5.2"
  },
  "latex_envs": {
   "bibliofile": "biblio.bib",
   "cite_by": "apalike",
   "current_citInitial": 1,
   "eqLabelWithNumbers": true,
   "eqNumInitial": 0
  }
 },
 "nbformat": 4,
 "nbformat_minor": 0
}
