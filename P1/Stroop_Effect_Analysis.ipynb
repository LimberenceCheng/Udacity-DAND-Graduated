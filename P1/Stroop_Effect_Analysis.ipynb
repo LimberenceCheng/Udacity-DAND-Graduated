{
 "cells": [
  {
   "cell_type": "markdown",
   "metadata": {},
   "source": [
    "**Question 1**：在实验中，哪个是因变量，哪个是自变量。\n",
    "\n",
    "**Answer**：自变量是颜色与单词意义是否相符，因变量是**被试样本**回答的反应时间。\n",
    "\n",
    "**Question 2a**：建立假设\n",
    "\n",
    "**My Assumptions**:当文字颜色与文字意义相符的时候，反因时间更短。\n",
    "\n",
    "**设立数学字符**：\n",
    "\n",
    "* $Q_1$表示第一四分位差\n",
    "* $Q_2$表示中位数\n",
    "* $Q_3$表示第三个四分位差\n",
    "* $Z_0$为样本值\n",
    "* $Z$为统计量\n",
    "* $P_{Congrent}$为文字颜色与意义相符的反应时间比不相符反应时间短的概率。\n",
    "* $P_{Incongruent}$为文字颜色与意义相符的反应时间比不相符反应时间长的概率。\n",
    "\n",
    "$$并有：P_{Congrent}+P_{Incongruent}=1$$\n",
    "\n",
    "* $\\alpha$=0.1\n",
    "* $H_0：\\bar x_c\\geq\\bar x_i$:在没有经过特殊训练的人群中，大多数人在进行Stroop Effect的实验的时候，当文字颜色与文字意义相符的时候，反应时间比文字颜色与文字意义不相符的时候的反应时间更长或与之相等。\n",
    "* $H_1：\\bar x_c<\\bar x_i$：在没有经过特殊训练的人群中，大多数人在进行Stroop Effect的实验的时候，当文字颜色与文字意义相符的时候，反应时间比文字颜色与文字意义不相符的时候的反应时间更短。\n",
    "\n",
    "* $\\bar x_c$:文字意义与文字颜色相符的反应时间的平均数\n",
    "* $\\bar x_i$:文字意义与文字颜色不相符的反应时间的平均数\n",
    "* $\\sigma_c$:文字意义与文字颜色相符的反应时间的方差\n",
    "* $\\sigma_i$:文字意义与文字颜色不相符的反应时间的方差\n",
    "\n",
    "**Question 2b**：通过统计检验来辩证提出的假设，并针对统计检验的假设前提进行说明\n",
    "\n",
    "**选择相依样本的学生t检验**\n",
    "\n",
    "* 为什么使用学生t检验？\n",
    "\n",
    "学生t检验的适用范围是已知一个总体均数，并且样本均数与样本标准差是可以得到的。而Z检验是一般用于大样本(即样本容量大于30)平均值差异性检验的方法。它是用标准正态分布的理论来推断差异发生的概率，从而比较两个平均数的差异是否显著。因此学生t检验较Z检验，样本容量要求更低。在给出的`stroopdata.csv`中，样本数量不足30个。我们需要在样本容量不足30个的前提下，证明文字颜色与文字意义相符的时候，反因时间更短。故本次采用采用学生t检验。\n",
    "\n",
    "* 为什么是相依样本？\n",
    "\n",
    "在Stroop Effect的实验中，在实验进行时可以被理解为一种训练，这种训练导致了接受文字颜色与意义不相符的反应时间可能减少，因此为相依样本。\n",
    "\n",
    "* 单尾检验还是双尾检验？\n",
    "\n",
    "由于假设为$H_0：\\bar x_c\\geq\\bar x_i$，使用左单尾检验。\n",
    "\n",
    "**Question3**:为数据集组计算了描述性统计分析，包括至少一项中心性测量和一项可变性测量。"
   ]
  },
  {
   "cell_type": "code",
   "execution_count": 1,
   "metadata": {
    "collapsed": true
   },
   "outputs": [],
   "source": [
    "import numpy as np\n",
    "import pandas as pd\n",
    "import matplotlib.pyplot as plt\n",
    "%matplotlib inline\n",
    "\n",
    "data=pd.read_csv(\"stroopdata.csv\")"
   ]
  },
  {
   "cell_type": "markdown",
   "metadata": {},
   "source": [
    "**给出中心性测量数据**"
   ]
  },
  {
   "cell_type": "code",
   "execution_count": 2,
   "metadata": {
    "collapsed": false
   },
   "outputs": [
    {
     "name": "stdout",
     "output_type": "stream",
     "text": [
      "所以，文字意义与文字颜色相符的反应时间的平均数为：14.051125\n",
      "文字意义与文字颜色不相符的反应时间的平均数为：22.0159166667\n"
     ]
    }
   ],
   "source": [
    "print \"所以，文字意义与文字颜色相符的反应时间的平均数为：\"+bytes(np.mean(data['Congruent']))\n",
    "print \"文字意义与文字颜色不相符的反应时间的平均数为：\"+bytes(np.mean(data['Incongruent']))"
   ]
  },
  {
   "cell_type": "code",
   "execution_count": 3,
   "metadata": {
    "collapsed": false
   },
   "outputs": [
    {
     "name": "stdout",
     "output_type": "stream",
     "text": [
      "所以，文字意义与文字颜色相符的反应时间的中位数为：14.3565\n",
      "文字意义与文字颜色不相符的反应时间的中位数为：21.0175\n"
     ]
    }
   ],
   "source": [
    "print \"所以，文字意义与文字颜色相符的反应时间的中位数为：\"+bytes(np.median(data['Congruent']))\n",
    "print \"文字意义与文字颜色不相符的反应时间的中位数为：\"+bytes(np.median(data['Incongruent']))"
   ]
  },
  {
   "cell_type": "markdown",
   "metadata": {},
   "source": [
    "**给出可变性测量**"
   ]
  },
  {
   "cell_type": "code",
   "execution_count": 4,
   "metadata": {
    "collapsed": false
   },
   "outputs": [
    {
     "name": "stdout",
     "output_type": "stream",
     "text": [
      "给出文字意义与文字颜色相符的反应时间的方差：12.1411528594\n",
      "给出文字意义与文字颜色不相符的反应时间的方差：22.0529338264\n"
     ]
    }
   ],
   "source": [
    "print \"给出文字意义与文字颜色相符的反应时间的方差：\"+bytes(np.var(data['Congruent']))\n",
    "print \"给出文字意义与文字颜色不相符的反应时间的方差：\"+bytes(np.var(data['Incongruent']))"
   ]
  },
  {
   "cell_type": "markdown",
   "metadata": {},
   "source": [
    "**Question4:**创建了展示数据的一项或两项可视化，包括用注释说明图中可观察到的信息。\n",
    "\n",
    "导入包数据，并作箱线图："
   ]
  },
  {
   "cell_type": "code",
   "execution_count": 5,
   "metadata": {
    "collapsed": false
   },
   "outputs": [
    {
     "data": {
      "image/png": "[encoded data removed]",
      "text/plain": [
       "<matplotlib.figure.Figure at 0x8778530>"
      ]
     },
     "metadata": {},
     "output_type": "display_data"
    }
   ],
   "source": [
    "plt.boxplot((data['Congruent'],data['Incongruent' ]),labels=('Congruent','Incongruent'))\n",
    "plt.show()"
   ]
  },
  {
   "cell_type": "markdown",
   "metadata": {},
   "source": [
    "由箱线图展现的数据可视化得，文字意义与颜色不相同的时候的反应时间比文字意义与颜色相同的时候的**试验样本平均反应时间**更长。\n",
    "\n",
    "**Question5:**正确执行并报告了一项统计检验，包括检验统计量、P 值和检验结果。检验结果针对执行的试验任务进行了解释。\n",
    "\n",
    "**进行student t-test**\n",
    "\n",
    "引入scipy包，进行t-test数据整理，得到t值和p值。"
   ]
  },
  {
   "cell_type": "code",
   "execution_count": 6,
   "metadata": {
    "collapsed": false
   },
   "outputs": [
    {
     "name": "stdout",
     "output_type": "stream",
     "text": [
      "t值为：-8.02070694411\n",
      "p值为：4.10300058571e-08\n"
     ]
    }
   ],
   "source": [
    "from scipy.stats import ttest_rel\n",
    "from scipy import stats\n",
    "t,p=ttest_rel(data['Congruent'],data['Incongruent' ])\n",
    "print \"t值为：\"+ bytes(t)\n",
    "print \"p值为：\"+bytes(p)"
   ]
  },
  {
   "cell_type": "markdown",
   "metadata": {},
   "source": [
    "因此因为$p=4.10300058571e-08<\\alpha$\n",
    "\n",
    "拒绝零假设成功。\n",
    "\n",
    "**Question 6：进一步的研究**\n",
    "\n",
    "* 涉及到语意干涉的情况，即单词意义与颜色差异的初始中性刺激，当单词颜色与单词意义彼此不干扰时比在不一致的条件下更快。墨水的颜色与词的含义被理解成为干扰的源头，导致认知速度的下降。\n",
    "\n",
    "就以上分析提出下列假设：\n",
    "\n",
    "单词意义与单词颜色的相差度也可能作为可量化的干扰，并且随着差异性的增大，干扰效果增大，具体解释为认知速度的变化。\n",
    "\n",
    ">如，红色意义的单词（Red），用深红、浅红、洋红等与红色颜色相近的颜色来着色的反应时间与用其余与红色相差甚远的颜色来着色的反应时间应有所差异，具体差异表现为其反应时间更比前者更长。\n",
    "\n",
    "在此处，用RGB等颜色选取表的方式，对颜色进行定量分析。\n",
    "\n",
    "在此展示本人的实验思路：\n",
    "\n",
    "设定差异值为$D_i$\n",
    "\n",
    "1. 将单词颜色与与之对应的标准颜色标记为$D_i$=0，在RGB颜色模型中，每提高一个单位（约10左右），标记为$D_i$=1。\n",
    "2. 将实验设定为双盲实验以减小实验误差，工作人员不知道其标记单位，实验者对情况一无所知。\n",
    "3. 通过打乱标记上各种颜色，进行记录实验数据。\n",
    "4. 将答案中每个颜色的受试情况抽出，以差异值$D_i$作为x轴，反应时间t为y轴。做频率分布图。\n",
    "\n",
    "设定α=0.1\n",
    "\n",
    "$H_0$:大多数情况下，颜色差异越大，反应时间越短。\n",
    "\n",
    "$H_1$:大多数情况下，颜色差异越大，反应时间越长。\n",
    "\n",
    "当超过90%的实验数据显示，$D_i$与t成正相关，即颜色差异越大，反应时间越长，即拒绝零假设成功。\n",
    "\n",
    "* 大脑的识别词的颜色的能力有一个滞后，因为大脑读取词比识别颜色更快。\n",
    "\n",
    "可能是基于文字处理明显快于颜色处理。\n",
    "\n",
    "在有关字和颜色的冲突的情况下，如果任务是报告颜色，则字信息在呈现处理混淆的颜色信息之前到达决策阶段。相反，如果任务是报告单词，由于颜色信息滞后于单词信息，则可以在冲突信息之前作出决定。\n",
    "\n",
    "由于识别颜色不是一个“自动过程”，有回应的犹豫;而大脑通过习惯阅读的结果自动理解词的意义。这个想法是基于这样的前提：自动阅读不需要受到控制的注意，但是仍然使用足够的注意资源以减少可用于颜色信息处理的注意力的量。"
   ]
  },
  {
   "cell_type": "markdown",
   "metadata": {},
   "source": [
    "参考信息：\n",
    "\n",
    "* [Stroop Effect Wikipedia](https://en.wikipedia.org/wiki/Stroop_effect)\n",
    "* [Matplotlib Example](http://matplotlib.org/examples/)\n",
    "* [To fetch the row of the csv](http://www.lfhacks.com/tech/python-read-specific-column-csv)\n",
    "* [Statistical hypothesis testing-Wikipedia](https://en.wikipedia.org/wiki/Statistical_hypothesis_testing#Variations_and_sub-classes)"
   ]
  }
 ],
 "metadata": {
  "anaconda-cloud": {},
  "hide_input": false,
  "kernelspec": {
   "display_name": "Python [Root]",
   "language": "python",
   "name": "Python [Root]"
  },
  "language_info": {
   "codemirror_mode": {
    "name": "ipython",
    "version": 2
   },
   "file_extension": ".py",
   "mimetype": "text/x-python",
   "name": "python",
   "nbconvert_exporter": "python",
   "pygments_lexer": "ipython2",
   "version": "2.7.12"
  },
  "latex_envs": {
   "bibliofile": "biblio.bib",
   "cite_by": "apalike",
   "current_citInitial": 1,
   "eqLabelWithNumbers": true,
   "eqNumInitial": 0
  }
 },
 "nbformat": 4,
 "nbformat_minor": 0
}
